{
  "cells": [
    {
      "cell_type": "markdown",
      "metadata": {
        "id": "EKOTlwcmxmej"
      },
      "source": [
        "# GPT-2 Fine-Tuning Tutorial with PyTorch & Huggingface in Colab\n",
        "\n",
        "\n"
      ]
    },
    {
      "cell_type": "markdown",
      "metadata": {
        "id": "NKGBoVwuhM4H"
      },
      "source": [
        "This is a simplified script for fine-tuning GPT2 using Hugging Face's [Transformers library](https://huggingface.co/transformers/) and PyTorch.\n",
        "\n",
        "You should understand the basics of PyTorch and how a training loop works before getting started. [This official PyTorch tutorial](https://pytorch.org/tutorials/beginner/nn_tutorial.html) serves as an excellent introduction. Familiarity with the workings of GPT2 might be useful but isn't required. The code has been written for clarity and not re-use. I'd advise refactoring it for actual projects. I've liberally taken bits from [Chris McCormick's BERT fine-tuning tutorial](https://mccormickml.com/2019/07/22/BERT-fine-tuning/), [Ian Porter's GPT2 tutorial](https://snappishproductions.com/blog/2020/03/01/chapter-9.5-text-generation-with-gpt-2-and-only-pytorch.html.html) and the [Hugging Face Language model fine-tuning script](https://huggingface.co/transformers/v2.0.0/examples.html#language-model-fine-tuning) so full credit to them. Chris' code has pretty much provided the basis for this script - you should definitely check out his [blog](https://mccormickml.com/tutorials/).\n",
        "\n",
        "I should mention what the script doesn't cover:\n",
        "\n",
        "- Using the [nlp](https://huggingface.co/nlp/) library to load in the dataset and setting up the training workflow, which looks to streamline things rather nicely.\n",
        "- [Accumulated gradients](https://medium.com/huggingface/training-larger-batches-practical-tips-on-1-gpu-multi-gpu-distributed-setups-ec88c3e51255) - this gives larger effective batch sizes than Colab allows (GPT2 is a large model, and anything more than a batch size of 2 would be enough to get a CUDA out of memory error on Colab).\n",
        "- [Freezing layers](https://github.com/huggingface/transformers/issues/1431). This is the process of only changing the parameters in selected layers, made famous by the [ULMFit](https://arxiv.org/abs/1801.06146) process.\n",
        "- [Using 'past'](https://huggingface.co/transformers/quickstart.html#using-the-past) when generating text. This takes in the previous state when generating successive items of text. I didn't need it.\n",
        "- [Tensor packing](https://snappishproductions.com/blog/2020/03/01/chapter-9.5-text-generation-with-gpt-2-and-only-pytorch.html.html). This is a neat way of fitting in as much training data in each batch.\n",
        "- [Hyperparameter search](https://discuss.huggingface.co/t/using-hyperparameter-search-in-trainer/785/10). I settled quickly on values that seemed to produce decent values, without checking if they were optimal."
      ]
    },
    {
      "cell_type": "markdown",
      "metadata": {
        "id": "Xf3Qw77SZGbS"
      },
      "source": [
        "# Setup"
      ]
    },
    {
      "cell_type": "code",
      "execution_count": 1,
      "metadata": {
        "colab": {
          "base_uri": "https://localhost:8080/",
          "height": 641
        },
        "id": "0NmMdkZO8R6q",
        "outputId": "6880fd4e-5f4b-4a66-a133-7cd0a69a67ef"
      },
      "outputs": [
        {
          "name": "stdout",
          "output_type": "stream",
          "text": [
            "Requirement already satisfied: transformers in /home/peacelovephysics/miniconda32/envs/awbot2/lib/python3.10/site-packages (4.44.2)\n",
            "Requirement already satisfied: filelock in /home/peacelovephysics/miniconda32/envs/awbot2/lib/python3.10/site-packages (from transformers) (3.15.4)\n",
            "Requirement already satisfied: huggingface-hub<1.0,>=0.23.2 in /home/peacelovephysics/miniconda32/envs/awbot2/lib/python3.10/site-packages (from transformers) (0.24.6)\n",
            "Requirement already satisfied: numpy>=1.17 in /home/peacelovephysics/.local/lib/python3.10/site-packages (from transformers) (1.24.1)\n",
            "Requirement already satisfied: packaging>=20.0 in /home/peacelovephysics/.local/lib/python3.10/site-packages (from transformers) (23.0)\n",
            "Requirement already satisfied: pyyaml>=5.1 in /home/peacelovephysics/.local/lib/python3.10/site-packages (from transformers) (6.0)\n",
            "Requirement already satisfied: regex!=2019.12.17 in /home/peacelovephysics/miniconda32/envs/awbot2/lib/python3.10/site-packages (from transformers) (2024.7.24)\n",
            "Requirement already satisfied: requests in /home/peacelovephysics/.local/lib/python3.10/site-packages (from transformers) (2.32.3)\n",
            "Requirement already satisfied: safetensors>=0.4.1 in /home/peacelovephysics/miniconda32/envs/awbot2/lib/python3.10/site-packages (from transformers) (0.4.4)\n",
            "Requirement already satisfied: tokenizers<0.20,>=0.19 in /home/peacelovephysics/miniconda32/envs/awbot2/lib/python3.10/site-packages (from transformers) (0.19.1)\n",
            "Requirement already satisfied: tqdm>=4.27 in /home/peacelovephysics/miniconda32/envs/awbot2/lib/python3.10/site-packages (from transformers) (4.66.5)\n",
            "Requirement already satisfied: fsspec>=2023.5.0 in /home/peacelovephysics/miniconda32/envs/awbot2/lib/python3.10/site-packages (from huggingface-hub<1.0,>=0.23.2->transformers) (2024.6.1)\n",
            "Requirement already satisfied: typing-extensions>=3.7.4.3 in /home/peacelovephysics/miniconda32/envs/awbot2/lib/python3.10/site-packages (from huggingface-hub<1.0,>=0.23.2->transformers) (4.12.2)\n",
            "Requirement already satisfied: charset-normalizer<4,>=2 in /home/peacelovephysics/.local/lib/python3.10/site-packages (from requests->transformers) (3.0.1)\n",
            "Requirement already satisfied: idna<4,>=2.5 in /home/peacelovephysics/.local/lib/python3.10/site-packages (from requests->transformers) (3.4)\n",
            "Requirement already satisfied: urllib3<3,>=1.21.1 in /home/peacelovephysics/.local/lib/python3.10/site-packages (from requests->transformers) (1.26.14)\n",
            "Requirement already satisfied: certifi>=2017.4.17 in /home/peacelovephysics/.local/lib/python3.10/site-packages (from requests->transformers) (2022.12.7)\n"
          ]
        }
      ],
      "source": [
        "!pip install transformers"
      ]
    },
    {
      "cell_type": "code",
      "execution_count": 7,
      "metadata": {
        "colab": {
          "base_uri": "https://localhost:8080/",
          "height": 125
        },
        "id": "JCCeyhuDHdOu",
        "outputId": "0b340a2a-1876-4e9b-bc5c-8133520ebec9"
      },
      "outputs": [
        {
          "name": "stderr",
          "output_type": "stream",
          "text": [
            "[nltk_data] Downloading package punkt to\n",
            "[nltk_data]     /home/peacelovephysics/nltk_data...\n",
            "[nltk_data]   Package punkt is already up-to-date!\n"
          ]
        },
        {
          "data": {
            "text/plain": [
              "True"
            ]
          },
          "execution_count": 7,
          "metadata": {},
          "output_type": "execute_result"
        }
      ],
      "source": [
        "import os\n",
        "import time\n",
        "import datetime\n",
        "# from google.colab import drive\n",
        "\n",
        "import pandas as pd\n",
        "import seaborn as sns\n",
        "import numpy as np\n",
        "import random\n",
        "\n",
        "import matplotlib.pyplot as plt\n",
        "%matplotlib inline\n",
        "\n",
        "import torch\n",
        "from torch.utils.data import Dataset, DataLoader, random_split, RandomSampler, SequentialSampler\n",
        "torch.manual_seed(42)\n",
        "\n",
        "from transformers import GPT2LMHeadModel,  GPT2Tokenizer, GPT2Config, GPT2LMHeadModel\n",
        "from transformers import AdamW, get_linear_schedule_with_warmup\n",
        "\n",
        "import nltk\n",
        "nltk.download('punkt')"
      ]
    },
    {
      "cell_type": "code",
      "execution_count": 8,
      "metadata": {
        "colab": {
          "base_uri": "https://localhost:8080/",
          "height": 372
        },
        "id": "satxtOn9CzgR",
        "outputId": "1a07f6a7-b862-471e-976c-7722ab23570a"
      },
      "outputs": [
        {
          "name": "stdout",
          "output_type": "stream",
          "text": [
            "Sat Oct  5 10:18:23 2024       \n",
            "+---------------------------------------------------------------------------------------+\n",
            "| NVIDIA-SMI 535.54.04              Driver Version: 536.23       CUDA Version: 12.2     |\n",
            "|-----------------------------------------+----------------------+----------------------+\n",
            "| GPU  Name                 Persistence-M | Bus-Id        Disp.A | Volatile Uncorr. ECC |\n",
            "| Fan  Temp   Perf          Pwr:Usage/Cap |         Memory-Usage | GPU-Util  Compute M. |\n",
            "|                                         |                      |               MIG M. |\n",
            "|=========================================+======================+======================|\n",
            "|   0  NVIDIA GeForce RTX 4060 Ti     On  | 00000000:01:00.0  On |                  N/A |\n",
            "|  0%   34C    P8               6W / 160W |    534MiB /  8188MiB |      6%      Default |\n",
            "|                                         |                      |                  N/A |\n",
            "+-----------------------------------------+----------------------+----------------------+\n",
            "                                                                                         \n",
            "+---------------------------------------------------------------------------------------+\n",
            "| Processes:                                                                            |\n",
            "|  GPU   GI   CI        PID   Type   Process name                            GPU Memory |\n",
            "|        ID   ID                                                             Usage      |\n",
            "|=======================================================================================|\n",
            "|    0   N/A  N/A       607      C   /python3.10                               N/A      |\n",
            "+---------------------------------------------------------------------------------------+\n"
          ]
        }
      ],
      "source": [
        "!nvidia-smi"
      ]
    },
    {
      "cell_type": "markdown",
      "metadata": {
        "id": "ZfdCML6Parvv"
      },
      "source": [
        "# Create Training Set\n",
        "\n",
        "The data used to finetune the language model is a set of around 1000 DJ biographies, with the aim of generating them in the same general format and style.\n",
        "\n",
        "This data isn't public so if you want to use this script, you'll have to source your own training set."
      ]
    },
    {
      "cell_type": "code",
      "execution_count": null,
      "metadata": {
        "colab": {
          "base_uri": "https://localhost:8080/",
          "height": 125
        },
        "id": "_EYFrNxr-TYb",
        "outputId": "019f2993-a8a8-4a27-ab63-380f914bac9f"
      },
      "outputs": [
        {
          "name": "stdout",
          "output_type": "stream",
          "text": [
            "Go to this URL in a browser: https://accounts.google.com/o/oauth2/auth?client_id=947318989803-6bn6qk8qdgf4n4g3pfee6491hc0brc4i.apps.googleusercontent.com&redirect_uri=urn%3aietf%3awg%3aoauth%3a2.0%3aoob&scope=email%20https%3a%2f%2fwww.googleapis.com%2fauth%2fdocs.test%20https%3a%2f%2fwww.googleapis.com%2fauth%2fdrive%20https%3a%2f%2fwww.googleapis.com%2fauth%2fdrive.photos.readonly%20https%3a%2f%2fwww.googleapis.com%2fauth%2fpeopleapi.readonly&response_type=code\n",
            "\n",
            "Enter your authorization code:\n",
            "··········\n",
            "Mounted at /content/gdrive/\n"
          ]
        }
      ],
      "source": [
        "# # mount my Google Drive directory and access the training data located there\n",
        "# gdrive_dir = '/content/gdrive/'\n",
        "# data_dir = os.path.join(gdrive_dir, \"'My Drive'\",\"'Colab Notebooks'\",\"nlp\",\"'text gen demos'\")\n",
        "# filename = 'ra_top_1000_full.csv'\n",
        "\n",
        "# drive.mount(gdrive_dir, force_remount=True)\n"
      ]
    },
    {
      "cell_type": "code",
      "execution_count": null,
      "metadata": {
        "id": "G_DWAMe1FopX"
      },
      "outputs": [],
      "source": [
        "# # copy the data to the current Colab working directory\n",
        "# !cp $data_dir/$filename ."
      ]
    },
    {
      "cell_type": "code",
      "execution_count": null,
      "metadata": {
        "colab": {
          "base_uri": "https://localhost:8080/",
          "height": 265
        },
        "id": "ya3zsH0r-3JK",
        "outputId": "c444ddaf-a88c-4d35-8c5f-8465b1cd6c32"
      },
      "outputs": [
        {
          "name": "stdout",
          "output_type": "stream",
          "text": [
            "      Unnamed: 0  ...                                           bio_main\n",
            "0              0  ...  Where do you start with A Guy Called Gerald? A...\n",
            "1              1  ...  The cohesive array of depth charged devices th...\n",
            "2              2  ...  Guido Minisky and Hervé Carvalho (+ Sex Schön ...\n",
            "3              3  ...  Acid Pauli is Martin Gretschmann’s club-orient...\n",
            "4              4  ...                                                NaN\n",
            "...          ...  ...                                                ...\n",
            "1018        1018  ...  As a music enthusiast and dedicated partygoer,...\n",
            "1019        1019  ...  When one could assume, &ME entered the House a...\n",
            "1020        1020  ...  In times where moms give their sons and daught...\n",
            "1021        1021  ...  999999999 -officially started in July 2016 and...\n",
            "1022        1022  ...  Raised in Seoul, 24 year old female Korean sin...\n",
            "\n",
            "[1023 rows x 5 columns]\n"
          ]
        }
      ],
      "source": [
        "# # load into a data frame\n",
        "# df = pd.read_csv(filename)\n",
        "# print(df)"
      ]
    },
    {
      "cell_type": "code",
      "execution_count": null,
      "metadata": {
        "colab": {
          "base_uri": "https://localhost:8080/",
          "height": 230
        },
        "id": "_U3m6wr3Ahzt",
        "outputId": "cb06a9c5-4f27-4511-d353-97298d26fe66"
      },
      "outputs": [
        {
          "data": {
            "text/plain": [
              "0       Where do you start with A Guy Called Gerald? A...\n",
              "1       The cohesive array of depth charged devices th...\n",
              "2       Guido Minisky and Hervé Carvalho (+ Sex Schön ...\n",
              "3       Acid Pauli is Martin Gretschmann’s club-orient...\n",
              "5       In 2004 her debut album “Blondie” became a meg...\n",
              "                              ...                        \n",
              "1018    As a music enthusiast and dedicated partygoer,...\n",
              "1019    When one could assume, &ME entered the House a...\n",
              "1020    In times where moms give their sons and daught...\n",
              "1021    999999999 -officially started in July 2016 and...\n",
              "1022    Raised in Seoul, 24 year old female Korean sin...\n",
              "Name: bio_main, Length: 740, dtype: object"
            ]
          },
          "execution_count": 7,
          "metadata": {
            "tags": []
          },
          "output_type": "execute_result"
        }
      ],
      "source": [
        "# df.dropna(inplace=True) #remove NA values\n",
        "# bios = df.bio_main.copy() #just use the main bio text in this example\n",
        "# bios"
      ]
    },
    {
      "cell_type": "markdown",
      "metadata": {
        "id": "hQ1oK0kXaV5p"
      },
      "source": [
        "We need to get an idea of how long our training documents are.\n",
        "\n",
        "I'm not going to use the same tokenizer as the GPT2 one, which is a [byte pair encoding tokenizer](https://blog.floydhub.com/tokenization-nlp/). Instead, I'm using a simple one just to get a rough understanding."
      ]
    },
    {
      "cell_type": "code",
      "execution_count": 9,
      "metadata": {},
      "outputs": [
        {
          "name": "stdout",
          "output_type": "stream",
          "text": [
            "43553\n",
            " I wonder what you mean when you use the word I.\n"
          ]
        },
        {
          "data": {
            "text/html": [
              "<div>\n",
              "<style scoped>\n",
              "    .dataframe tbody tr th:only-of-type {\n",
              "        vertical-align: middle;\n",
              "    }\n",
              "\n",
              "    .dataframe tbody tr th {\n",
              "        vertical-align: top;\n",
              "    }\n",
              "\n",
              "    .dataframe thead th {\n",
              "        text-align: right;\n",
              "    }\n",
              "</style>\n",
              "<table border=\"1\" class=\"dataframe\">\n",
              "  <thead>\n",
              "    <tr style=\"text-align: right;\">\n",
              "      <th></th>\n",
              "      <th>text</th>\n",
              "      <th>word_count</th>\n",
              "    </tr>\n",
              "  </thead>\n",
              "  <tbody>\n",
              "    <tr>\n",
              "      <th>3</th>\n",
              "      <td>I wonder what you mean when you use the word I.</td>\n",
              "      <td>12</td>\n",
              "    </tr>\n",
              "    <tr>\n",
              "      <th>4</th>\n",
              "      <td>I've been very interested in this problem for ...</td>\n",
              "      <td>35</td>\n",
              "    </tr>\n",
              "    <tr>\n",
              "      <th>5</th>\n",
              "      <td>That is to say, a false sense of personal iden...</td>\n",
              "      <td>22</td>\n",
              "    </tr>\n",
              "    <tr>\n",
              "      <th>6</th>\n",
              "      <td>And as a result of having a false sense of ide...</td>\n",
              "      <td>25</td>\n",
              "    </tr>\n",
              "    <tr>\n",
              "      <th>7</th>\n",
              "      <td>And when that inappropriate way of action is m...</td>\n",
              "      <td>31</td>\n",
              "    </tr>\n",
              "  </tbody>\n",
              "</table>\n",
              "</div>"
            ],
            "text/plain": [
              "                                                text  word_count\n",
              "3    I wonder what you mean when you use the word I.          12\n",
              "4  I've been very interested in this problem for ...          35\n",
              "5  That is to say, a false sense of personal iden...          22\n",
              "6  And as a result of having a false sense of ide...          25\n",
              "7  And when that inappropriate way of action is m...          31"
            ]
          },
          "execution_count": 9,
          "metadata": {},
          "output_type": "execute_result"
        }
      ],
      "source": [
        "# load text into dataframe from file\n",
        "filename = './data/output_final.txt'\n",
        "with open(filename, 'r') as file:\n",
        "    data = file.read().split('\\n')\n",
        "\n",
        "# create a dataframe\n",
        "df = pd.DataFrame(data, columns=['text'])\n",
        "\n",
        "# remove empty lines\n",
        "df = df[df.text != '']\n",
        "\n",
        "# remove duplicate lines\n",
        "df = df.drop_duplicates()\n",
        "\n",
        "# remove lines with more than 768 tokens\n",
        "df['word_count'] = df['text'].apply(lambda x: len(nltk.word_tokenize(x)))\n",
        "df = df[df['word_count'] < 768]\n",
        "\n",
        "print(len(df))\n",
        "print(df.at[3, 'text'])\n",
        "df.head()"
      ]
    },
    {
      "cell_type": "code",
      "execution_count": 10,
      "metadata": {},
      "outputs": [],
      "source": [
        "# extract the text from the dataframe\n",
        "bios = df.text.copy()"
      ]
    },
    {
      "cell_type": "code",
      "execution_count": 11,
      "metadata": {
        "colab": {
          "base_uri": "https://localhost:8080/",
          "height": 282
        },
        "id": "cKsH2sU0OCQA",
        "outputId": "d1eea92f-b997-40a6-bbdb-64a439173eef"
      },
      "outputs": [
        {
          "data": {
            "image/png": "[encoded data removed]",
            "text/plain": [
              "<Figure size 1000x500 with 1 Axes>"
            ]
          },
          "metadata": {},
          "output_type": "display_data"
        }
      ],
      "source": [
        "doc_lengths = []\n",
        "\n",
        "for index, bio in enumerate(bios):\n",
        "\n",
        "    # get rough token count distribution\n",
        "    tokens = nltk.word_tokenize(bio)\n",
        "\n",
        "    doc_lengths.append(len(tokens))\n",
        "\n",
        "    if len(tokens) > 1000:\n",
        "        print(index + 1, len(tokens), tokens[:10])\n",
        "\n",
        "doc_lengths = np.array(doc_lengths)\n",
        "\n",
        "# plot document lengths greater than 100 tokens\n",
        "sns.set(style='whitegrid')\n",
        "plt.figure(figsize=(10, 5))\n",
        "plt.title('Document Lengths')\n",
        "plt.xlabel('Document Length')\n",
        "plt.ylabel('Count')\n",
        "sns.histplot(doc_lengths[doc_lengths > 100])\n",
        "# sns.displot(doc_lengths)\n",
        "plt.show()"
      ]
    },
    {
      "cell_type": "code",
      "execution_count": 2,
      "metadata": {},
      "outputs": [
        {
          "name": "stdout",
          "output_type": "stream",
          "text": [
            "103\n",
            "4 - I wonder what you mean 3\n",
            "1765 - The art of meditation is 2\n",
            "2290 - Existence already includes non-existence. 2\n",
            "2514 - It's curious, very, very odd, 2\n",
            "2784 - Now this seminar this weekend 2\n",
            "3046 - In talking about Buddhism in 2\n",
            "3733 - I was discussing last night 2\n",
            "3740 - I want to start by 4\n",
            "4167 - Now then, we have to 3\n",
            "5188 - Some time ago, I received 2\n",
            "5340 - I was discussing last night 2\n",
            "5530 - In talking about Buddhism in 2\n",
            "5942 - You start from noticing all 2\n",
            "6175 - I want to start by 4\n",
            "6356 - Now then, we have to 3\n",
            "6590 - Now I hope you remember 2\n",
            "6767 - And so all these powers 2\n",
            "7025 - Now, you know, those people 2\n",
            "7814 - Now, you know, those people 2\n",
            "8013 - I don't think I need 2\n",
            "8184 - When I last talked about 4\n",
            "8725 - Imagine for a moment that 2\n",
            "9629 - What do you do? 2\n",
            "9903 - And so all these powers 2\n",
            "10161 - The subject which has most 2\n",
            "10495 - One of the things that 2\n",
            "10959 - I wonder if it's ever 2\n",
            "11189 - I may take the liberty 2\n",
            "11367 - Now, as you know, this 2\n",
            "11822 - Behind the father image, behind 3\n",
            "12037 - Now this seminar this weekend 2\n",
            "12058 - Now I hope you remember 2\n",
            "12235 - In my talk last night, 2\n",
            "12616 - Tonight, at any rate, we've 2\n",
            "13395 - The point that I wish 2\n",
            "14660 - It's curious, very, very odd, 2\n",
            "17782 - Well now we've been discussing 2\n",
            "18032 - It's curious how, past the 2\n",
            "18467 - Existence already includes non-existence. 2\n",
            "20647 - Now, as you know, this 2\n",
            "20878 - I wonder what you mean 3\n",
            "21055 - Some years ago I had 2\n",
            "21892 - I want to start by 4\n",
            "22081 - What do you do? 2\n",
            "22860 - Behind the father image, behind 3\n",
            "23068 - It has become extremely plausible 2\n",
            "23325 - In my talk last night, 2\n",
            "24228 - I believe that if we 2\n",
            "24539 - It's very commonly said that 2\n",
            "25546 - Now then, we have to 3\n",
            "25787 - Well now we've been discussing 2\n",
            "26012 - It's curious how, past the 2\n",
            "26416 - I wonder if it's ever 2\n",
            "26453 - A lecture on Zen is 2\n",
            "26869 - I suppose most of you 2\n",
            "27056 - One of the things that 2\n",
            "28314 - A person who thinks all 4\n",
            "29140 - A person who thinks all 4\n",
            "29511 - When I last talked about 4\n",
            "30388 - Who is it that knows 2\n",
            "30839 - Now, this morning I was 2\n",
            "31271 - The subject which has most 2\n",
            "32292 - This evening I'm going to 2\n",
            "34003 - I'm going to talk to 2\n",
            "35169 - Imagine for a moment that 2\n",
            "35957 - This evening I'm going to 2\n",
            "36155 - A person who thinks all 4\n",
            "37724 - It's very commonly said that 2\n",
            "37940 - I believe that if we 2\n",
            "38753 - I want to start out 2\n",
            "40103 - Tonight, at any rate, we've 2\n",
            "40478 - A person who thinks all 4\n",
            "42077 - You start from noticing all 2\n",
            "43012 - Cities that looked like rubbish 2\n",
            "43130 - You do what I tell 2\n",
            "43244 - Now, isn't it obvious that 2\n",
            "43357 - I suppose most people now 2\n",
            "43425 - The object of Buddhist discipline 2\n",
            "43660 - The word yoga, as most 2\n",
            "43873 - You do what I tell 2\n",
            "43987 - I want to start out 2\n",
            "44015 - Now, isn't it obvious that 2\n",
            "44128 - Cities that looked like rubbish 2\n",
            "44246 - I suppose most people now 2\n",
            "44314 - The point that I wish 2\n",
            "45087 - I may take the liberty 2\n",
            "45517 - I want to start by 4\n",
            "45933 - I wonder what you mean 3\n",
            "46422 - I don't think I need 2\n",
            "47265 - Some years ago I had 2\n",
            "48546 - I'm going to talk to 2\n",
            "48587 - Some time ago, I received 2\n",
            "49627 - A lecture on Zen is 2\n",
            "49708 - When I last talked about 4\n",
            "50244 - Behind the father image, behind 3\n",
            "50475 - It has become extremely plausible 2\n",
            "50722 - Who is it that knows 2\n",
            "51779 - Now, this morning I was 2\n",
            "52202 - When I last talked about 4\n",
            "54073 - The object of Buddhist discipline 2\n",
            "54300 - The word yoga, as most 2\n",
            "55232 - I suppose most of you 2\n",
            "56700 - The art of meditation is 2\n"
          ]
        }
      ],
      "source": [
        "with open(\"data/output_final.txt\", \"r\") as f:\n",
        "    output_final_contents = f.read()\n",
        "\n",
        "# Split the contents into lines\n",
        "output_final_lines = output_final_contents.split('\\n')\n",
        "\n",
        "# get a list of all the first lines of each paragraph\n",
        "first_lines = []\n",
        "indices = []\n",
        "for index, line in enumerate(output_final_lines):\n",
        "    if line.startswith(' '):\n",
        "        first_lines.append(' '.join(line.split()[:5]))\n",
        "        indices.append(index + 1)\n",
        "\n",
        "# check list for duplicates\n",
        "duplicates = []\n",
        "for line in first_lines:\n",
        "    if first_lines.count(line) > 1:\n",
        "        duplicates.append(line)\n",
        "\n",
        "print(len(duplicates))\n",
        "\n",
        "for line, index in zip(first_lines, indices):\n",
        "    if line in duplicates:\n",
        "        print(index, '-', line, first_lines.count(line))"
      ]
    },
    {
      "cell_type": "code",
      "execution_count": 3,
      "metadata": {
        "colab": {
          "base_uri": "https://localhost:8080/",
          "height": 34
        },
        "id": "u6P6bTItJEIj",
        "outputId": "6aec04e0-7069-45d1-92a6-c7eafd158589"
      },
      "outputs": [
        {
          "ename": "NameError",
          "evalue": "name 'doc_lengths' is not defined",
          "output_type": "error",
          "traceback": [
            "\u001b[0;31m---------------------------------------------------------------------------\u001b[0m",
            "\u001b[0;31mNameError\u001b[0m                                 Traceback (most recent call last)",
            "Cell \u001b[0;32mIn[3], line 2\u001b[0m\n\u001b[1;32m      1\u001b[0m \u001b[38;5;66;03m# the max token length\u001b[39;00m\n\u001b[0;32m----> 2\u001b[0m \u001b[38;5;28mlen\u001b[39m(\u001b[43mdoc_lengths\u001b[49m[doc_lengths \u001b[38;5;241m>\u001b[39m \u001b[38;5;241m768\u001b[39m])\u001b[38;5;241m/\u001b[39m\u001b[38;5;28mlen\u001b[39m(doc_lengths)\n",
            "\u001b[0;31mNameError\u001b[0m: name 'doc_lengths' is not defined"
          ]
        }
      ],
      "source": [
        "# the max token length\n",
        "len(doc_lengths[doc_lengths > 768])/len(doc_lengths)"
      ]
    },
    {
      "cell_type": "code",
      "execution_count": 38,
      "metadata": {
        "colab": {
          "base_uri": "https://localhost:8080/",
          "height": 34
        },
        "id": "63t_69HjlwAj",
        "outputId": "f921388e-d135-428d-d2a7-dd92b542b99b"
      },
      "outputs": [
        {
          "data": {
            "text/plain": [
              "18.5411108304824"
            ]
          },
          "execution_count": 38,
          "metadata": {},
          "output_type": "execute_result"
        }
      ],
      "source": [
        "np.average(doc_lengths)"
      ]
    },
    {
      "cell_type": "code",
      "execution_count": 5,
      "metadata": {},
      "outputs": [
        {
          "name": "stdout",
          "output_type": "stream",
          "text": [
            "94\n",
            "1340 So we get to what the Buddhists call Tathātā, suchness.\n",
            "1341 Tathātā, based on the word tat, that, da.\n",
            "1744 A woman with the biggerнако ...\n",
            "3733 The highest kind of a Buddha is like an ordinary person and this comes out very very much in various tendencies in Zen where for example all the painting peculiarly characteristic of Zen Buddhism in the Chinese and Japanese tradition is as it were secular it has a peculiarly non-religious atmosphere that is to say the painting of Shingon sect and Tendai sect as you saw it in the museum today was religious painting you could tell at once that the subject matter of these paintings is religious but with Zen painting the way of dealing with philosophical on spiritual themes is secular so that when an artist like Sengai living in the 17th century Japan paints the Buddha there is something slightly humorous about the Buddha he wears his halo over one ear there is an informality a slight roughness and so this comes from China from those great song artists like Liang Kai who painted the six patriarch of Zen chopping bamboos looking like the most extraordinarily unkempt country oaf so also the greatest Zen painting has as its subject matter not really religious themes at all it uses pine branches rocks bamboos grasses everything of that kind and you would never know that these things were icons likewise also in poetry which we will go into more extensively in the future the superb expression of Zen poetry is derived from the Chinese poet Hōkōji who says wondrous action supernatural power drawing water carrying fuel now that's that poem is a little bit too religious for Zen taste and so preferable to that is Barsho's famous poem the old pond a frog jumps in plop plop is the only possible English translation for the Japanese means no auto which means literally the waters sound plop but that poem you see is very high styles end poem because it has nothing in it about religion there is a poem on the edge which also was written by Barsho which says when the lightning flashes how admirable he who does not think life is fleeting you see the flash of a lightning is a Buddhist cliche for the transiency of the world your life goes by and disappears as fast as a flash of lightning that becomes a cliche so all religion all religious comments about life eventually become cliches religion always is falling apart and becoming a certain kind of going through the motions a kind of imitation of attitudes as if one would say we've got a book called the imitation of Christ to terrible book because everybody who imitates Christ is a kind of a fake Jesus so in the same way there's all kinds of imitation Buddhas not just sitting on altars made of wood gilded but just sitting around in monasteries so one might say then that the highest kind of religious or spiritual attainment has no no way a sign about it that it is religious or that it is spiritual and so as a metaphor for this there was used in Buddhism from the very beginning the idea of the tracks of birds in the sky they don't leave any tracks and so the way of the enlightened man is like the track of a bird in the sky and as one poem a Chinese poem says entering the forest he does not disturb a blade of grass entering the water he does not make a ripple in other words there is no sign about him to indicate that he is self-consciously religious and this goes to for the fact that he's not having any religious sign is also not something contrived it isn't like Protestant simplicity you know all those Catholics with their rituals and how dreadful and the sincere that is with the real reason you know why Protestant think Catholic ritual is insincere you know it's expensive Protestantism started in the burger cities of Europe places like Freiburg you know and Geneva because the merchant class who were the foundation of the bourgeoisie got annoyed because every time a Saints Day came around all their employees got a day off because it was a holy day and they had to attend mass there were so many of these nuisance holy days and all these contributions that were assessed by the church buying your way out of purgatory and saying masses for the dead and so on and so forth they found this not very economical the priests were getting the money instead of the merchants and so they decried as unbiblical and irreligious and wasteful all the finery of the Catholic religion and wanted something plain and simple so it became in course of time a sign of being really religious to avoid rituals and to avoid colorful clothing and splendor in churches and to be as ordinary as possible but that is not yet the real religion of me giving no sign of having a religion because this simplicity and absence of ritual itself becomes a sign a way of advertising how spiritual you are so the completely bodhisattva type of person doesn't leave any track either by being religious overtly or by being non-religious overtly how will you be neither religious nor non-religious see that's the great test how will you avoid that trap of being one or the other it's like are you a theist or are you an atheist see the theist is caught by God and the idea of God the belief in God but the atheist is equally caught because an atheist is very often an atheist because he cannot stand the idea that God is watching him all the time that there is this constant all-seeing eye prying on your most private life and that there's this you know how when you're a child in school and you're writing something or doing arithmetic and the teacher walks around the class and looks over your shoulder nobody wants to be watched like that even someone who is good at writing or arithmetic doesn't want somebody looking over their shoulder while they're doing it it puts you off it bugs you so the idea of the Lord God who is watching us all the time who is judging everything that we do puts people off and they can't stand it so better be an atheist to get rid of teacher so but the atheist you see the man who advertises his disbelief in God is a very pious person nobody believes in God like an atheist there is no God and I am his prophet so then the true bodhisattva state is very difficult to pin down as being either neither supremely religious nor blatantly secular and people who think that the height of Buddhism or the height of Zen is to be perfectly ordinary have still missed the point like the atheist has missed the point but for this reason then there is an element in the art the painting etc which has been inspired by this kind of Buddhism this kind of art where the subject matter is non-religious nevertheless there is something about the way in which this non-religious subject matter is handled that stops you and you know there's something strange about it this is how I first became interested in oriental philosophy and all that kind of thing I had an absolute fascination for Chinese and Japanese painting the secular painting the landscapes the treatment of flowers and grasses and bamboos there was something about it that struck me as astonishing even though the subject matter was extremely ordinary and I just as a child practically I had to find out what was the strange element in those bamboos and those grasses I was being of course taught by those painters to see grass but there was something in there that one could never pin down never put your finger on and that was this thing that I will call the religion of no religion the supreme attainment of being a Buddha who can't be detected who in this sense then leaves no trace you remember some of you have seen those ten paintings called the ten stages of spiritual ox herding and the the author there are two sets of these paintings there's a heterodox one and an orthodox one the heterodox one has the as the man catches the ox it gets progressively whiter until in the end it disappears altogether and the last picture is an empty circle but the orthodox set of paintings doesn't end with the empty circle that the empty circle arises two from the end three from the end it is followed by two others after the man has attained the state of emptiness the state in other words of complete iconoclasm the state of no attachment to any spiritual or psychological or moral crutch there are two more steps one is called returning to the origin which is represented by a tree beside a stream and the final one called entering the city with hands hanging down that means the hands giving a handout as it were giving bounty and it shows the picture of the fat Buddha putai or in Japanese known as Hotei who is an enormous belly big ears who carries around a colossal bag and what do you think this bag has in it trash wonderful trash everything that children love things that everybody else has thrown away and thought of as valueless this bum collects and gives it away to children and so it says here that he goes on his way without following the steps of the ancient sages his door is closed his kids that's the door of his house and no glimpses of his interior life are to be seen so in other words it's like when you erect a building while you're building it you have all kinds of scaffolding up that shows you that building is going on but when the building is complete the scaffolding is taken down to open a door as they say in Zen you may need to pick up a brick to knock at the door but when the door is open you don't carry the brick inside to cross the river you need a boat but when you reach the other side you don't pick up the boat and carry it so the brick the boat the scaffolding all these things represent some sort of religious technology or and in the end these are all to disappear so that the saint will not be found in church I don't take what I say literally the saint can perfectly readily go to church without being sullied by church but ordinary people when they go to church they come out stinking of religion there was a great Zen master once and one of his disciples asked him how am I making progress he said you're all right but you have a trivial fault well what is that he said you have too much Zen well he said when you're studying Zen don't you think it's very natural to be talking about it the master said when it's like an ordinary conversation it is much better and so another monk who was standing by listening to this exchange said to the master why do you so specially dislike talking about Zen and he replied because it turns one's stomach so what did he mean when he said when it's like an ordinary everyday conversation it is somewhat better when the old master joshua was asked at the end of the kalpa when everything is destroyed in fire there will be one thing remaining what is that and joshua replied it's windy again this morning so in Zen when you're asked a question about religion you reply in terms of the secular when you are asked about something secular you reply in terms of religion so what is the eternal nature of the self it's windy again this morning please pass me a knife the master hands him the knife with a blade first please give me the other end what would you do with the other end see here the disciple starts out with the ordinary please pass me the knife and suddenly he finds himself involved in a metaphysical problem but if he starts out with the metaphysical he's going to get involved with a knife so now to go deeply into the religion of non-religion we have to understand the what you might call the final ultimate attainment of Mahayana Buddhist philosophy and this is contained in a school of thought which is called in Chinese Hua Yan and in Japanese kegon kegon is the intellectual foundation for Zen and there was a great Chinese master by the name of Schumann who was simultaneously a Zen master and the fifth patriarch of the Huan Yan sect.\n",
            "3855 As for example, what we call smaða love, when a mother is so afraid that her children may get into trouble that she protects them excessively.\n",
            "4021 Pāṇātipāta vairamaniṣikāpadaṁ samādhiyāmi Ādi-nadanā vairamaniṣikāpadaṁ samādhiyāmi Kāmesu mīcchacāra vairamaniṣikāpadaṁ samādhiyāmi Mūsāvāda vairamaniṣikāpadaṁ samādhiyāmi Kāmesu mīcchacāra vairamaniṣikāpadaṁ samādhiyāmi So they take these five precepts.\n",
            "4022 Pāṇātipāta I undertake the precept to abstain from taking life.\n",
            "4023 Ādi-nadanā I undertake the precept to abstain from taking what is not given.\n",
            "4024 Kāmesu mīcchacāra I undertake the precept to abstain from exploiting the passions.\n",
            "4025 Mūsāvāda I undertake the precept to abstain from falsifying speech.\n",
            "4026 Sūra mārya madhya-pāmadhatāna I undertake the precept to abstain from being intoxicated by Sūra, mārya and madhya-pāmadhatāna.\n",
            "4028 I presume tādi, which is alcohol, I don't know what else it was.\n",
            "4039 So, likewise, mūsāvāda, if you start telling lies to everybody, you know what happens when you start telling lies.\n",
            "4384 Mahā is Sanskrit word for great.\n",
            "5360 You see, the flash of a lightning is a Buddhist cliché for the transiency of the world.\n",
            "5362 That becomes a cliché.\n",
            "5363 So all religion, all religious comments about life, eventually become clichés.\n",
            "6549 Mahā is Sanskrit word for great, M-A-H-A.\n",
            "7129 And therefore, all human beings living in the end time of the Kali Yuga, or what the Japanese call mappō, are just hopeless, hopelessly selfish.\n",
            "7133 So in the Jodo Shinshu sect, the tariki, the other power, is represented in the form of amitāba, or Japanese say amida, this great beneficent Buddha figure who everybody loves.\n",
            "7918 And therefore, all human beings living in the end time of the Kali Yuga, or what the Japanese call mappō, are just hopeless, hopelessly selfish.\n",
            "7922 So in the Jodo Shinshu sect, the tariki, the other power, is represented in the form of amitāba, or Japanese say amida, this great beneficent Buddha figure who everybody loves.\n",
            "8981 The Chinese word for nature, zhì rán, means that which happens of itself.\n",
            "10546 So as if I were to say to you, if you were puzzled about something, you would, what Piliš calls, concerned about being.\n",
            "10679 You know what a Möbius strip is, don't you?\n",
            "11797 The Chinese word for nature, zhì rán, means that which happens of itself.\n",
            "12399 The Chinese word for nature, they call zhīrán.\n",
            "12405 But zhīrán, what is so of itself, is associated in the Chinese mind, not with machinery, but with biology.\n",
            "12658 In Chinese, the word for nature is zhīrán, which is that which is so of itself, the spontaneous.\n",
            "13649 This is in a way slightly akin to the Gödel theorem that you can't have a system of say a logic which defines its own axioms.\n",
            "14760 Say Henri Bergson with the idea of the Élan Vital.\n",
            "14949 Life in England or France in 1700 was not remarkably different from life in Rome, we do not speak of any other나 more than the early 21st-century Greek civilization.\n",
            "14950 it was seen most Copper圖ed here in the 있고 n Whismond mountain geological office and it was part of the tree comest thought by His Supreme nothin to the rest every day of the five-and-a-half Sep.\n",
            "14951 The твоong1 man that behold, Here I aside mehrere предложes of man bütünamarien The population suddenly starts expanding at an unprecedented pace, and power is blowing out of us in all directions.\n",
            "14992 But it keeps changing into the same thing, hence the French proverb, plus ça change, plus c'est la même chose.\n",
            "15431 People used to circulate stories, for example, that before going to a party, Aldous would read in the Encyclopædia Britannica everything that he had to say on the letter P, the origins of that.\n",
            "15523 If you take, for example, Gustave Doré's illustrations to the Divina Commedia, those for Hell and Purgatory are fascinating.\n",
            "16966 Et vive la différence.\n",
            "17820 And when one speaks then of the goal of yoga as being samadhi, and particularly what is called asamprajñata, asamprajñata samadhi, which means samadhi without a seed in it.\n",
            "18028 And the wind which passer me by goes sobie  españ\n",
            "19898 But then it was just like having too much éclairs and ice cream and filet mignon and cooked à la carême, you know, that French cook who made everything look like an oriental palace.\n",
            "22562 And then we have what is called a déjà vu experience.\n",
            "23487 The Chinese word for nature, they call zhīrán.\n",
            "23493 So, zhīrán, what is so of itself, is associated in the Chinese mind, not with machinery, but with biology.\n",
            "23957 This is in a way slightly akin to the Gödel theorem that you can't have a system of, say, a logic which defines its own axioms.\n",
            "25750 I always loved the passage where the Buddha is giving instructions on the art of meditation, and he's describing a number of things on which one could concentrate, and there's a commentator making little notes on this, and so when he's made his list of things on which you could concentrate, like a square of drawn on the ground or the tip of your nose or a leaf or a stone or anything, And then he writes about the physical activity, and again, we know why though, and he says, now release all the parts of the mind, about having these elements of Magic, the Whole and the 자꾸 down which would encourage us to just concentrate.\n",
            "25751 So here when Here is Christmas不是 And It Is All This.\n",
            "25753 Mahā unique AMP dans Anamaris meditation.\n",
            "25754 This is the process of 방송 flattening with the eye, basic meditation and and occ유� the Developmental Earางah Hurricane.\n",
            "25755 Facing all that then it saker kannā istego all' algo he says, or on anything.\n",
            "27107 So as if I were to say to you, if you were puzzled about something, you would, what Piliš calls, concerned about being.\n",
            "27240 You know what a Möbius strip is, don't you?\n",
            "28274 Suppose if you burn aь an atomic bomb in the air, it reaches a speed of 2 seconds, you'd have a sign that the atomic bomb has towered.\n",
            "28914 There is this expression, which has almost the same meaning as zhīrán, spontaneity of itself.\n",
            "28916 Now heaven, qián, means simply the universe.\n",
            "28917 As you look out from earth, which is, as it were, the center or the base, everything else, the whole expanse of the cosmos, is qián, heaven.\n",
            "28923 It is the delegated image of qián.\n",
            "28935 If such security may be got from wine, how much more from qián can run, from being in accord with the spontaneous rhythm of the universe.\n",
            "29418 And that you're in a cosmos where there's a different kind of no exit from what sātra means.\n",
            "32425 To those left of the Indian culture with a strongلبh the Indian culture has always been somewhere of the immenseift unbelief.\n",
            "32426 In India, geство we see the Div थ meglio quCE T syllables for meat content and fat content.Henceföravais existsdince the Indian culture, because of these fields, has a developmen's sense ofNG 및 coaches and One should enjoy a woman as one enjoys any other living thing, in a forest, flower or mountain that reveals itself to those who are patient.\n",
            "33517 And therefore come with a certain naiveté and innocence, like the child.\n",
            "34815 In the words of Teyshaṇa, only when you have no thing in your mind and no mind in things are you vacant and spiritual, empty and marvelous.\n",
            "35091 It is easy to form the impression that the Japanese love of nature is predominantly sentimental, dwelling on those aspects of nature which are nice and pretty—butterflies, cherry blossoms, the autumn moon, chrysanthemums, and old pine trees.\n",
            "35096 He thinks of the lice on his chest as insects in the grass and expresses the most natural human feelings—sadness, loneliness, bewilderment, or pity—without a trace of shame or pride.\n",
            "35100 Strictly the term means something like tea with hot water, and through this one art Zen has exercised an incalculable influence on Japanese life, since the ca-jin, or man of tea, is an arbiter of taste in the many subsidiary arts which cano-yu involves—architecture, gardening, ceramics, metalwork, lacquer, and the arrangement of flowers, or ikebana.\n",
            "39455 And he may simply take a whole lot of wire and melt it so that it vaguely flows together and then bang it about for a while and then upend it and stick it on an extremely tasteful, polished wood pedestal and call it Opus 35 1⁄2.\n",
            "39489 He could finally go on and imitate Watteau and Cézanne, Matisse.\n",
            "39614 It consisted shelf upon shelf of cheeses, of pâté de foie gras, of caviar, of candies.\n",
            "40147 In Chinese, the word for nature is zhī rán, which is that which is so of itself, the spontaneous.\n",
            "40439 B meat heart decía en Munich.\n",
            "41093 The syllable Dvā in Dvapara means two, double or dual.\n",
            "42340 The syllable dvā in dvapara means two, double or dual, so that in this age the powers of good and evil are equally balanced.\n",
            "42342 At the end, your eternal self takes the form of Śiva, the Lord of renewal through death, blue-bodied and ten-armed with a necklace of skulls.\n",
            "42344 And then Śiva dances the Tandava dance, the dance of fire in which the material world is destroyed, and the self returns to the state of pralaya, of peace, unimvolvement and pure bliss.\n",
            "43866  It's believed, generally, in India, that when a person postів the 5-CCP Living that when a person sets out on the way of liberation his first problem is to become free from his past karma.\n",
            "49805 They are called in Japanese, mōndō, which means question answer.\n",
            "50248 Because, I tell you, I knew a monk who started out in life as pretty much of an agnostic or an atheist, and then he began to read Henri Bergson, the French philosopher who proclaimed the vital force, the élan vital, and so on.\n",
            "51367 In the words of the poet Hōkoji, marvelous power and supernatural activity, drawing water, carrying wood.\n",
            "51503 But let's say we're talking about a person who했어℀, KK, in poor condition.\n",
            "51912 To be headless you might say, to have no head in just the sense I'm talking about is our way of talking about the Chinese expression, 無心 no mind.\n",
            "52300 They are called in Japanese, mōndō, which means question answer.\n",
            "52741 Even though it may have been, what has happened really, it's what we call in the West an objet trouvé, where the artist, instead of making something, selects it.\n",
            "53143 There is this expression, 天然, which has almost the same meaning as 自然, spontaneity of itself so.\n",
            "53145 Now, heaven, 天, means simply the universe.\n",
            "53146 As you look out from earth, which is, as it were, the center or the base, everything else, the whole expanse of the cosmos, is 天, heaven.\n",
            "53152 It is the delegated image of 天.\n",
            "53164 If sub-security may be got from wine, how much more from 天 run, from being in accord with the spontaneous rhythm of the universe.\n",
            "53857 Ignorance or better,رای Games.\n",
            "53863 Ignorance isですね a possibility of suffering.\n",
            "53864 Ignorance inne愛 Activ una która.\n",
            "57134 Hare Kṛṣṇa, Hare Kṛṣṇa, Kṛṣṇa Kṛṣṇa, Hare Hare, Hare Rāma, Hare Rāma, Rāma Rāma, Hare Hare, Hare Kṛṣṇa, Hare Kṛṣṇa, Kṛṣṇa Kṛṣṇa, Hare Hare, Hare Rāma, Hare Rāma, Rāma Rāma, Hare Hare, Hare Kṛṣṇa, Hare Kṛṣṇa, Kṛṣṇa Kṛṣṇa, Hare Hare, Hare Rāma, Rāma Rāma, Rāma Rāma, Rāma Rāma, Rāma, Rāma, Rāma, Rāma Rāma, Rāma.\n",
            "57241 � I.\n",
            "57605 So with nothing but sand and rock, the most famous garden in the world is Ryōanji, which is native to nothing but sand and rock.\n"
          ]
        }
      ],
      "source": [
        "# check for lines with non-ascii characters\n",
        "non_ascii = []\n",
        "for index, line in enumerate(output_final_lines):\n",
        "    try:\n",
        "        line.encode('ascii')\n",
        "    except UnicodeEncodeError:\n",
        "        non_ascii.append(index)\n",
        "\n",
        "print(len(non_ascii))\n",
        "for index in non_ascii:\n",
        "    print(index, output_final_lines[index])"
      ]
    },
    {
      "cell_type": "markdown",
      "metadata": {
        "id": "Tuq5bqdr4_a6"
      },
      "source": [
        "Even though these token counts won't match up to the BPE tokenizer's, I'm confident that most bios will be fit under the 768 embedding size limit for the small GPT2 model."
      ]
    },
    {
      "cell_type": "markdown",
      "metadata": {
        "id": "cMml12FJGjPW"
      },
      "source": [
        "# GPT2 Tokenizer"
      ]
    },
    {
      "cell_type": "markdown",
      "metadata": {
        "id": "ANJhbBwdxN-b"
      },
      "source": [
        "Although the defaults take care of this,I thought I'd show that you can specify some of the special tokens."
      ]
    },
    {
      "cell_type": "code",
      "execution_count": 12,
      "metadata": {
        "colab": {
          "base_uri": "https://localhost:8080/",
          "height": 134,
          "referenced_widgets": [
            "c1336ea71997462e82cd06beea22d482",
            "855d49d8c5a245bc8497965ba991cf30",
            "6d46299bb5d1414aa2bfa6b500f9786d",
            "7bd2ddd9aceb45008a1b59ea01971fc6",
            "42f0ec7177e94d6f999df8cd14a44cc9",
            "51897d176312490a9cc2f1e6ea223e36",
            "19b51c64ec66418a949217821b711317",
            "1c9ea5a685534b6988fa7c4d48492fc2",
            "0489a4fd50f64513a9b255a1535b245e",
            "ea1d91bf60634e6599270f1fba83500d",
            "515137fcceaa44f982b3fbd5f3a08452",
            "edb3099d63c44b218fa206dae1ba9bc6",
            "00d7ecd3e7c949638441c75297fa352d",
            "354918de69d64d5fa6fa74e61422ae6e",
            "bdf4edd828064de2822db1bc9441bbcf",
            "a57d57e2056b4bc79e04f2b9b4a7cc9e"
          ]
        },
        "id": "Z474sSC6oe7A",
        "outputId": "dac9f475-693b-43a9-b729-268625fd110f"
      },
      "outputs": [],
      "source": [
        "# Load the GPT tokenizer.\n",
        "tokenizer = GPT2Tokenizer.from_pretrained('gpt2', bos_token='<|startoftext|>', eos_token='<|endoftext|>', pad_token='<|pad|>', clean_up_tokenization_spaces=True) #gpt2-medium\n"
      ]
    },
    {
      "cell_type": "code",
      "execution_count": 13,
      "metadata": {
        "colab": {
          "base_uri": "https://localhost:8080/",
          "height": 87
        },
        "id": "sh0XKuDvnryn",
        "outputId": "018f37d8-8c6f-4dd7-84f4-9a6ad50ef2c5"
      },
      "outputs": [
        {
          "name": "stdout",
          "output_type": "stream",
          "text": [
            "The max model length is 1024 for this model, although the actual embedding size for GPT small is 768\n",
            "The beginning of sequence token <|startoftext|> token has the id 50257\n",
            "The end of sequence token <|endoftext|> has the id 50256\n",
            "The padding token <|pad|> has the id 50258\n"
          ]
        }
      ],
      "source": [
        "print(\"The max model length is {} for this model, although the actual embedding size for GPT small is 768\".format(tokenizer.model_max_length))\n",
        "print(\"The beginning of sequence token {} token has the id {}\".format(tokenizer.convert_ids_to_tokens(tokenizer.bos_token_id), tokenizer.bos_token_id))\n",
        "print(\"The end of sequence token {} has the id {}\".format(tokenizer.convert_ids_to_tokens(tokenizer.eos_token_id), tokenizer.eos_token_id))\n",
        "print(\"The padding token {} has the id {}\".format(tokenizer.convert_ids_to_tokens(tokenizer.pad_token_id), tokenizer.pad_token_id))"
      ]
    },
    {
      "cell_type": "markdown",
      "metadata": {
        "id": "ex5O1eV-Pfct"
      },
      "source": [
        "# PyTorch Datasets & Dataloaders\n"
      ]
    },
    {
      "cell_type": "markdown",
      "metadata": {
        "id": "3lgZoOYkxZfx"
      },
      "source": [
        "GPT2 is a large model. Increasing the batch size above 2 has led to out of memory problems. This can be mitigated by accumulating the gradients but that is out of scope here."
      ]
    },
    {
      "cell_type": "code",
      "execution_count": 14,
      "metadata": {
        "id": "scqrzmqhV__z"
      },
      "outputs": [],
      "source": [
        "batch_size = 2"
      ]
    },
    {
      "cell_type": "markdown",
      "metadata": {
        "id": "lqGMee7Isfpx"
      },
      "source": [
        "I'm using the standard PyTorch approach of loading data in using a [dataset class](https://pytorch.org/tutorials/beginner/data_loading_tutorial.html).\n",
        "\n",
        "I'm passing in the tokenizer as an argument but normally I would  instantiate it within the class."
      ]
    },
    {
      "cell_type": "code",
      "execution_count": null,
      "metadata": {
        "id": "U_XJVIetKN-h"
      },
      "outputs": [],
      "source": [
        "class GPT2Dataset(Dataset):\n",
        "\n",
        "  def __init__(self, txt_list, tokenizer, gpt2_type=\"gpt2\", max_length=768):\n",
        "\n",
        "    self.tokenizer = tokenizer\n",
        "    self.input_ids = []\n",
        "    self.attn_masks = []\n",
        "\n",
        "    for txt in txt_list:\n",
        "\n",
        "      encodings_dict = tokenizer('<|startoftext|>'+ txt + '<|endoftext|>', truncation=True, max_length=max_length, padding=\"max_length\")\n",
        "\n",
        "      self.input_ids.append(torch.tensor(encodings_dict['input_ids']))\n",
        "      self.attn_masks.append(torch.tensor(encodings_dict['attention_mask']))\n",
        "\n",
        "  def __len__(self):\n",
        "    return len(self.input_ids)\n",
        "\n",
        "  def __getitem__(self, idx):\n",
        "    return self.input_ids[idx], self.attn_masks[idx]"
      ]
    },
    {
      "cell_type": "markdown",
      "metadata": {
        "id": "89Z7aYUgpWrd"
      },
      "source": [
        "To understand how I've used the tokenizer, it's worth reading [the docs](https://huggingface.co/transformers/main_classes/tokenizer.html). I've wrapped each bio in the bos and eos tokens.\n",
        "\n",
        "Every tensor passed to the model should be the same length.\n",
        "\n",
        "If the bio is shorter than 768 tokens, it will be padded to a length of 768 using the padding token. In addition, an attention mask will be returned that needs to be passed to the model to tell it to ignore the padding tokens.\n",
        "\n",
        "If the bio is longer than 768 tokens, it will be truncated without the eos_token. This isn't a problem."
      ]
    },
    {
      "cell_type": "code",
      "execution_count": null,
      "metadata": {
        "colab": {
          "base_uri": "https://localhost:8080/",
          "height": 52
        },
        "id": "Xza_O1_rD7yh",
        "outputId": "b2b5f99f-6959-4fc4-cc58-435de16d5acc"
      },
      "outputs": [
        {
          "name": "stdout",
          "output_type": "stream",
          "text": [
            "  666 training samples\n",
            "   74 validation samples\n"
          ]
        }
      ],
      "source": [
        "dataset = GPT2Dataset(bios, tokenizer, max_length=768)\n",
        "\n",
        "# Split into training and validation sets\n",
        "train_size = int(0.9 * len(dataset))\n",
        "val_size = len(dataset) - train_size\n",
        "\n",
        "train_dataset, val_dataset = random_split(dataset, [train_size, val_size])\n",
        "\n",
        "print('{:>5,} training samples'.format(train_size))\n",
        "print('{:>5,} validation samples'.format(val_size))"
      ]
    },
    {
      "cell_type": "code",
      "execution_count": null,
      "metadata": {
        "id": "x0WeP5PREUuy"
      },
      "outputs": [],
      "source": [
        "# Create the DataLoaders for our training and validation datasets.\n",
        "# We'll take training samples in random order.\n",
        "train_dataloader = DataLoader(\n",
        "            train_dataset,  # The training samples.\n",
        "            sampler = RandomSampler(train_dataset), # Select batches randomly\n",
        "            batch_size = batch_size # Trains with this batch size.\n",
        "        )\n",
        "\n",
        "# For validation the order doesn't matter, so we'll just read them sequentially.\n",
        "validation_dataloader = DataLoader(\n",
        "            val_dataset, # The validation samples.\n",
        "            sampler = SequentialSampler(val_dataset), # Pull out batches sequentially.\n",
        "            batch_size = batch_size # Evaluate with this batch size.\n",
        "        )"
      ]
    },
    {
      "cell_type": "markdown",
      "metadata": {
        "id": "D6TKgyUzPIQc"
      },
      "source": [
        "# Finetune GPT2 Language Model"
      ]
    },
    {
      "cell_type": "code",
      "execution_count": null,
      "metadata": {
        "colab": {
          "base_uri": "https://localhost:8080/",
          "height": 72
        },
        "id": "gFsCTp_mporB",
        "outputId": "5e5af71d-ec9a-4a18-e07e-0da7435b6118"
      },
      "outputs": [
        {
          "name": "stderr",
          "output_type": "stream",
          "text": [
            "Some weights of GPT2LMHeadModel were not initialized from the model checkpoint at gpt2 and are newly initialized: ['h.0.attn.masked_bias', 'h.1.attn.masked_bias', 'h.2.attn.masked_bias', 'h.3.attn.masked_bias', 'h.4.attn.masked_bias', 'h.5.attn.masked_bias', 'h.6.attn.masked_bias', 'h.7.attn.masked_bias', 'h.8.attn.masked_bias', 'h.9.attn.masked_bias', 'h.10.attn.masked_bias', 'h.11.attn.masked_bias', 'lm_head.weight']\n",
            "You should probably TRAIN this model on a down-stream task to be able to use it for predictions and inference.\n"
          ]
        }
      ],
      "source": [
        "# I'm not really doing anything with the config buheret\n",
        "configuration = GPT2Config.from_pretrained('gpt2', output_hidden_states=False)\n",
        "\n",
        "# instantiate the model\n",
        "model = GPT2LMHeadModel.from_pretrained(\"gpt2\", config=configuration)\n",
        "\n",
        "# this step is necessary because I've added some tokens (bos_token, etc) to the embeddings\n",
        "# otherwise the tokenizer and model tensors won't match up\n",
        "model.resize_token_embeddings(len(tokenizer))\n",
        "\n",
        "# Tell pytorch to run this model on the GPU.\n",
        "device = torch.device(\"cuda\")\n",
        "model.cuda()\n",
        "\n",
        "# Set the seed value all over the place to make this reproducible.\n",
        "seed_val = 42\n",
        "\n",
        "random.seed(seed_val)\n",
        "np.random.seed(seed_val)\n",
        "torch.manual_seed(seed_val)\n",
        "torch.cuda.manual_seed_all(seed_val)"
      ]
    },
    {
      "cell_type": "code",
      "execution_count": null,
      "metadata": {
        "id": "pBEVY2PYSTXJ"
      },
      "outputs": [],
      "source": [
        "# some parameters I cooked up that work reasonably well\n",
        "\n",
        "epochs = 5\n",
        "learning_rate = 5e-4\n",
        "warmup_steps = 1e2\n",
        "epsilon = 1e-8\n",
        "\n",
        "# this produces sample output every 100 steps\n",
        "sample_every = 100"
      ]
    },
    {
      "cell_type": "code",
      "execution_count": null,
      "metadata": {
        "id": "GLs72DuMODJO"
      },
      "outputs": [],
      "source": [
        "# Note: AdamW is a class from the huggingface library (as opposed to pytorch)\n",
        "optimizer = AdamW(model.parameters(),\n",
        "                  lr = learning_rate,\n",
        "                  eps = epsilon\n",
        "                )"
      ]
    },
    {
      "cell_type": "code",
      "execution_count": null,
      "metadata": {
        "id": "-p0upAhhRiIx"
      },
      "outputs": [],
      "source": [
        "# Total number of training steps is [number of batches] x [number of epochs].\n",
        "# (Note that this is not the same as the number of training samples).\n",
        "total_steps = len(train_dataloader) * epochs\n",
        "\n",
        "# Create the learning rate scheduler.\n",
        "# This changes the learning rate as the training loop progresses\n",
        "scheduler = get_linear_schedule_with_warmup(optimizer,\n",
        "                                            num_warmup_steps = warmup_steps,\n",
        "                                            num_training_steps = total_steps)"
      ]
    },
    {
      "cell_type": "code",
      "execution_count": null,
      "metadata": {
        "id": "gpt6tR83keZD"
      },
      "outputs": [],
      "source": [
        "def format_time(elapsed):\n",
        "    return str(datetime.timedelta(seconds=int(round((elapsed)))))"
      ]
    },
    {
      "cell_type": "code",
      "execution_count": null,
      "metadata": {
        "colab": {
          "base_uri": "https://localhost:8080/",
          "height": 1000
        },
        "id": "vCPohrZ-CTWu",
        "outputId": "7aaef84b-4681-4505-d6d6-ea0421a4dd59"
      },
      "outputs": [
        {
          "name": "stdout",
          "output_type": "stream",
          "text": [
            "\n",
            "======== Epoch 1 / 5 ========\n",
            "Training...\n"
          ]
        },
        {
          "name": "stderr",
          "output_type": "stream",
          "text": [
            "Setting `pad_token_id` to 50256 (first `eos_token_id`) to generate sequence\n"
          ]
        },
        {
          "name": "stdout",
          "output_type": "stream",
          "text": [
            "  Batch   100  of    333. Loss: 2.7891762256622314.   Elapsed: 0:01:00.\n",
            "0:  bipartisan\" to have a \"worldwide reach\" and to promote \"strong\", to make a \"worldwide\" image of him. If you any more you must get a great master and keep your fingers crossed that the most honest guys on the earth are true.\n"
          ]
        },
        {
          "name": "stderr",
          "output_type": "stream",
          "text": [
            "Setting `pad_token_id` to 50256 (first `eos_token_id`) to generate sequence\n"
          ]
        },
        {
          "name": "stdout",
          "output_type": "stream",
          "text": [
            "  Batch   200  of    333. Loss: 2.519009828567505.   Elapsed: 0:02:00.\n",
            "0:  increasingThis is the world first for a new generation of artists to come out of the woods and into the city, with the release of 'Solo Music' compilation by Aries. Each chapter highlights the evolution of the underground underground and its evolution from a new generation, with the release of 'Cleaning', a compilation of his most iconic and iconic tracks, released by New Wave label Aries on June 13, 2014. Their newest release takes inspiration from his own experiences working at the likes of the Detroit Police Department, Detroit Underground, Detroit Radio 1 and many others at the present day. If you haven never seen, then you won't be able to stop laughing at this very moment. In the last decade, Aries has achieved international recognition, from both the UK and US. With the emergence of some influential artists like Chris Coyote, Jeff Mills, and many others, Aries has become one of the top performers of the UK radio scene and the highest profile DJ of the morning at the\n"
          ]
        },
        {
          "name": "stderr",
          "output_type": "stream",
          "text": [
            "Setting `pad_token_id` to 50256 (first `eos_token_id`) to generate sequence\n"
          ]
        },
        {
          "name": "stdout",
          "output_type": "stream",
          "text": [
            "  Batch   300  of    333. Loss: 0.5972903966903687.   Elapsed: 0:03:01.\n",
            "0: dayIf you think that they're all born into an elite club and that they're all born into an elite club, this is not going to surprise you! The club owner has never been behind the decks of such elite clubs! A veteran of the Premier and Leandro Conté, he has never been behind the decks of a major club. His vast experience working in the music industry demonstrates his knowledge of the genre and his love of innovation, both as a producer, DJ and dancer. It is this dedication that makes his reputation so strong! It will certainly be a thrill ride for you to hear his remixes on the big stage at the legendary Manchester festival of The Warehouse Project and Manchester Electric Light Orchestra.\n",
            "\n",
            "  Average training loss: 4.05\n",
            "  Training epoch took: 0:03:23\n",
            "\n",
            "Running Validation...\n",
            "  Validation Loss: 2.52\n",
            "  Validation took: 0:00:07\n",
            "\n",
            "======== Epoch 2 / 5 ========\n",
            "Training...\n"
          ]
        },
        {
          "name": "stderr",
          "output_type": "stream",
          "text": [
            "Setting `pad_token_id` to 50256 (first `eos_token_id`) to generate sequence\n"
          ]
        },
        {
          "name": "stdout",
          "output_type": "stream",
          "text": [
            "  Batch   100  of    333. Loss: 3.2584187984466553.   Elapsed: 0:00:59.\n",
            "0:  HangHe’s got an incredible track record: a DJ set that has helped define his art form over the last 20 years, from the groundbreaking ‘Walls, ‘Hospital City’ releases to legendary ‘Black Mass's ‘Mad Dog’s new track on his legendary label. His work is focused on deep, emotion-filled music with a deep human heart in his work.\n",
            "\n",
            "From the early 90’s and into the 2000’s, DJ sets have become a regular fixture of both clubs and festivals, and in 2000 saw him bring a live set to New York’s legendary nightlife complex with the launch of his own label, Fabric, alongside his partner Erol Alkan.\n",
            "\n",
            "DJ sets at the New York/New Jersey/London clubs “Don’t Go Backwards”, “The End Of The Line At Home”, “I’m Still Here”\n"
          ]
        },
        {
          "name": "stderr",
          "output_type": "stream",
          "text": [
            "Setting `pad_token_id` to 50256 (first `eos_token_id`) to generate sequence\n"
          ]
        },
        {
          "name": "stdout",
          "output_type": "stream",
          "text": [
            "  Batch   200  of    333. Loss: 1.9467722177505493.   Elapsed: 0:02:01.\n",
            "0:  foods[1,2,3,4,5,6,7,8,9,10,12,13,14,15,16,17,18,19,20,21,23,24,25,31,32,33,44,55,62,63,69,71,72,73,74,80,91,92,93,95,98,101,102,103,104,105,106,078,1110,1115,1216,1217,1218,1219,1220,1221,1222,1223,1224,1225,1227,1228,1229,1230,1301,1303,1304,1305,1307,1308,1309,1310,1311,1312,1313,1314,1315,1316,1317,1318,1319,1320\n"
          ]
        },
        {
          "name": "stderr",
          "output_type": "stream",
          "text": [
            "Setting `pad_token_id` to 50256 (first `eos_token_id`) to generate sequence\n"
          ]
        },
        {
          "name": "stdout",
          "output_type": "stream",
          "text": [
            "  Batch   300  of    333. Loss: 1.6309012174606323.   Elapsed: 0:03:02.\n",
            "0:  trailA veteran of the global music scene, Drexel University student Linnell has established a strong following for herself, contributing to one of the most celebrated and successful labels ever, and having contributed heavily to Resident Advisor's \"100 Best Live Actresses of 2016\" in 2015.\n",
            "\n",
            "Drexel University is known for its exceptional record collection as well as being a place to meet and play to a wide range of people from both academic and career professionals.\n",
            "\n",
            "Having played at the now legendary legendary Soma Club on Fuse Records for over 10 years now, Drexel University has hosted a wide selection of unique artists who have had a deep and lasting impact on her career. The vibrant music scene is here to stay, while allocating huge energy to both the production and remix department. With the ability to make music that makes you smile, a DJ is no doubt to see the light of day while also providing a unique backdrop to a world of amazing events that change lives in every\n",
            "\n",
            "  Average training loss: 2.10\n",
            "  Training epoch took: 0:03:24\n",
            "\n",
            "Running Validation...\n",
            "  Validation Loss: 2.48\n",
            "  Validation took: 0:00:07\n",
            "\n",
            "======== Epoch 3 / 5 ========\n",
            "Training...\n"
          ]
        },
        {
          "name": "stderr",
          "output_type": "stream",
          "text": [
            "Setting `pad_token_id` to 50256 (first `eos_token_id`) to generate sequence\n"
          ]
        },
        {
          "name": "stdout",
          "output_type": "stream",
          "text": [
            "  Batch   100  of    333. Loss: 1.9367458820343018.   Elapsed: 0:00:59.\n",
            "0: intendHe’s been a DJ since he was 17 years old. He’s been in the scene since he was in school. From the very earliest he played guitar. Then in the late 90’s he moved to the city of Montreal, where he started releasing records on his own label. Later he formed The Pickle Club, where he released his first EP in 1995. He released his first single “Mystery Track” in 2002 and was included in his list of favourite artists. “In terms of music we all love that we are, to us it’s all about the DJ, it’s all about the journey and it’s all about finding the right balance, I think of that. “I never get tired and I love it like never before, just as I love everything about DJing, from the music to the music, from the vibe to the mood, I don't know how long I can play that\n"
          ]
        },
        {
          "name": "stderr",
          "output_type": "stream",
          "text": [
            "Setting `pad_token_id` to 50256 (first `eos_token_id`) to generate sequence\n"
          ]
        },
        {
          "name": "stdout",
          "output_type": "stream",
          "text": [
            "  Batch   200  of    333. Loss: 2.2152810096740723.   Elapsed: 0:02:01.\n",
            "0:  surroundI am a huge fan of the Japanese artist “Nico”, and as such, it is my wish to introduce him to every single one of the world’s best house producers of his generation. He has a long history of playing and releasing music that is often seen as representing something very special, something that really no other producer can claim.\n",
            "\n",
            "His music has been charted in the top 40 techno albums of 2013. The top 20 techno tracks in the category include ‘Love Me’, ‘U2’, ‘Love You’, and ‘Oxygen’. His releases on labels such as Intec and Nuit Sonores, have reached high demand on labels such as Resident Advisor, Rammstein and Joy Orbison’s Playhouse imprint. His music is played on the biggest stages of the world, in the biggest clubs and festivals such as Berghain, Berghain International and Sonar\n"
          ]
        },
        {
          "name": "stderr",
          "output_type": "stream",
          "text": [
            "Setting `pad_token_id` to 50256 (first `eos_token_id`) to generate sequence\n"
          ]
        },
        {
          "name": "stdout",
          "output_type": "stream",
          "text": [
            "  Batch   300  of    333. Loss: 1.1594196557998657.   Elapsed: 0:03:02.\n",
            "0:  reflexJOSH MICKS and his D.C. crew are returning home this year, after years of touring Europe and the States.\n",
            "\n",
            "With the return of JOSH MICKS, the D.C. crew will be taking some time to rebuild after a tough year. With a string of standout performances throughout 2016, it has led them into the studio and into the studio to build their strong and diverse sound.\n",
            "\n",
            "Following their solid showing in 2016, MICKS joins the ranks of rising stars in the music industry. With three D.C. records on the way as well as releases on labels like Deep Dish Records, Diplo and Fuse, DJ Quirky, and a string of acclaimed remixes, this year will see them release on a wide range of labels, ranging from acclaimed independent releases to highly acclaimed live-act productions.\n",
            "\n",
            "These productions show great promise as long as their technical and production skills are utilized. They continue to thrive while also\n",
            "\n",
            "  Average training loss: 1.90\n",
            "  Training epoch took: 0:03:24\n",
            "\n",
            "Running Validation...\n",
            "  Validation Loss: 2.48\n",
            "  Validation took: 0:00:07\n",
            "\n",
            "======== Epoch 4 / 5 ========\n",
            "Training...\n"
          ]
        },
        {
          "name": "stderr",
          "output_type": "stream",
          "text": [
            "Setting `pad_token_id` to 50256 (first `eos_token_id`) to generate sequence\n"
          ]
        },
        {
          "name": "stdout",
          "output_type": "stream",
          "text": [
            "  Batch   100  of    333. Loss: 2.8111414909362793.   Elapsed: 0:00:59.\n",
            "0:  displayHailing from the southern part of Italy, he first got involved in the electronic music scene in 1993 - in 2006 he founded the website of Circus Planet in order to promote his unique sound. During his 3 years as a DJ, he developed a large repertoire of unusual and unusual sounds and compositions.\n",
            "\n",
            "During this time, he developed a unique skill as a performer and by extension his style as a sound designer. However, he constantly strives for new and innovative sound solutions and techniques, and his technical and creative versatility are highly valued.\n",
            "\n",
            "The Circus Planet team consists of Italian music composer and production team members, many of whose music has been recognized by leading publications, most notably DJ Mag and Sound On.\n",
            "\n",
            "Besides his work, Hautemann also produces electronic music as a DJ. His own productions have been licensed commercially, and there are some original works to be released with Circus Planet: The Story and the final versions being produced under his own name.\n"
          ]
        },
        {
          "name": "stderr",
          "output_type": "stream",
          "text": [
            "Setting `pad_token_id` to 50256 (first `eos_token_id`) to generate sequence\n"
          ]
        },
        {
          "name": "stdout",
          "output_type": "stream",
          "text": [
            "  Batch   200  of    333. Loss: 1.5006166696548462.   Elapsed: 0:02:01.\n",
            "0:  pastorTerrance Jones’s career began in 2003 when he was 16 years old, playing drums for The Bunker Music Academy. After spending his early teens drifting alone on his mother’s back roads he discovered Techno as a hobby of his young teens. In 2004 Jones became a resident DJ and a key organizer of underground techno events at San Francisco’s Bar25, where he performed regularly. From that time on he quickly gained a reputation as a dedicated DJ, releasing four 12” club shows and several remixes on renowned labels, all of which found homes in Detroit, Chicago and other American cities. The result was a highly successful club night that included nights at Sonar and Movement, and with great success.\n",
            "\n",
            "Throughout the '90s, he organized the Berlin based Underground Resistance movement, which was soon in its 6th year as a foundation for underground and underground dance music in Berlin. Following this, he organized the Berlin premiere of The Bunker Music Academy, with\n"
          ]
        },
        {
          "name": "stderr",
          "output_type": "stream",
          "text": [
            "Setting `pad_token_id` to 50256 (first `eos_token_id`) to generate sequence\n"
          ]
        },
        {
          "name": "stdout",
          "output_type": "stream",
          "text": [
            "  Batch   300  of    333. Loss: 1.1111661195755005.   Elapsed: 0:03:02.\n",
            "0:  illicitSven Vaertje is the son of Reinhard Vorńs father and his brother Reinhard himself. He made his name in the local scene through the underground techno movement of the early 1990s. Since then he has gone on to set up labels including : Prologue, Denssohte and Kompakt before becoming an important figure in the Berlin scene with his deep house and techno imprints.\n",
            "\n",
            "His productions have gone mainstream with Sven being one of the best young DJs of the current crop. His sets are also on many of the best record labels in Europe. Sven has built a strong reputation with international radio and event shows, making it a perfect outlet for quality techno from places like Berghain and The Block. If you want quality quality techno from some of Europe’s finest producers then you will be glad to have Sven as one of your top pick.\n",
            "\n",
            "  Average training loss: 1.73\n",
            "  Training epoch took: 0:03:24\n",
            "\n",
            "Running Validation...\n",
            "  Validation Loss: 2.52\n",
            "  Validation took: 0:00:07\n",
            "\n",
            "======== Epoch 5 / 5 ========\n",
            "Training...\n"
          ]
        },
        {
          "name": "stderr",
          "output_type": "stream",
          "text": [
            "Setting `pad_token_id` to 50256 (first `eos_token_id`) to generate sequence\n"
          ]
        },
        {
          "name": "stdout",
          "output_type": "stream",
          "text": [
            "  Batch   100  of    333. Loss: 2.1747093200683594.   Elapsed: 0:00:59.\n",
            "0:  Liberation\" is the latest in a string of influential music publications, the first to take cues from the UK rave scene. Launching on 19 July 2016 from London’s Red Bull Music Academy, the label brings together London based and emerging talent from around the world. “London based artists have a distinct aesthetic, taste, and a broad range of styles to offer an expansive palette of sounds that is representative of London’s vibrant and exciting underground music scene. From house, techno, and breaks, to whatever else is bubbling, the label showcases diverse talents across a range of genres, and is a platform for artists to share their deep, personal journey, without discrimination.\n",
            "\n",
            "“ London based artists will feature artists from all walks of life including fashion designers, artists from all walks of life such as fashion, house, and audiophile electronic music producers. Artists from all walks of life include: fashion conscious, DJ, label head, broadcaster, booker, restaurateur, musician\n"
          ]
        },
        {
          "name": "stderr",
          "output_type": "stream",
          "text": [
            "Setting `pad_token_id` to 50256 (first `eos_token_id`) to generate sequence\n"
          ]
        },
        {
          "name": "stdout",
          "output_type": "stream",
          "text": [
            "  Batch   200  of    333. Loss: 1.528595209121704.   Elapsed: 0:02:01.\n",
            "0:  NamGabe, aka Gabe, aka Rebolledo, aka Rebolledo, aka Rebolledo, aka Rebolledo, aka Rebolledo, aka Rebolledo, aka Rebolledo, aka Rebolledo, aka Rebolledo, aka Rebolledo, aka Rebolledo, aka Rebolledo, aka Rebolledo, aka Rebolledo, aka Rebolledo, aka Rebolledo, aka Rebolledo, aka Rebolledo, aka Rebolledo, aka Rebolledo, aka Rebolledo, aka Rebolledo, aka Rebolledo, aka Rebolledo, aka Rebolledo, aka Rebolledo, aka Rebolledo, aka Rebolledo, aka Rebolledo, aka Rebolledo, aka Rebolledo, aka Rebolledo, aka Rebolledo, aka Rebolledo, aka Rebolledo, aka Rebolledo, aka Rebolledo, aka Rebolledo, aka Reb\n"
          ]
        },
        {
          "name": "stderr",
          "output_type": "stream",
          "text": [
            "Setting `pad_token_id` to 50256 (first `eos_token_id`) to generate sequence\n"
          ]
        },
        {
          "name": "stdout",
          "output_type": "stream",
          "text": [
            "  Batch   300  of    333. Loss: 1.0829312801361084.   Elapsed: 0:03:02.\n",
            "0: IONWith his long-standing residency on London’s renowned Rinse FM network, Ruede has quickly become one of the most sought after talent in the underground electronic music scene - with regular appearances at the likes of Niki Leng, Derrick Carter, James Ruskin, Luke Slater, Robert Hood and James Ruskin leading his own imprint.\n",
            "\n",
            "Alongside being one of the main figures in the Underground Movement of London, Ruede has also held residencies around the world as a DJ and live act, notably in Buenos Aires and Mexico City. His main goal is to support both established and emerging talent in music and create a platform for them to express themselves within the wider scene.\n",
            "\n",
            "  Average training loss: 1.61\n",
            "  Training epoch took: 0:03:23\n",
            "\n",
            "Running Validation...\n",
            "  Validation Loss: 2.56\n",
            "  Validation took: 0:00:07\n",
            "\n",
            "Training complete!\n",
            "Total training took 0:17:36 (h:mm:ss)\n"
          ]
        }
      ],
      "source": [
        "total_t0 = time.time()\n",
        "\n",
        "training_stats = []\n",
        "\n",
        "model = model.to(device)\n",
        "\n",
        "for epoch_i in range(0, epochs):\n",
        "\n",
        "    # ========================================\n",
        "    #               Training\n",
        "    # ========================================\n",
        "\n",
        "    print(\"\")\n",
        "    print('======== Epoch {:} / {:} ========'.format(epoch_i + 1, epochs))\n",
        "    print('Training...')\n",
        "\n",
        "    t0 = time.time()\n",
        "\n",
        "    total_train_loss = 0\n",
        "\n",
        "    model.train()\n",
        "\n",
        "    for step, batch in enumerate(train_dataloader):\n",
        "\n",
        "        b_input_ids = batch[0].to(device)\n",
        "        b_labels = batch[0].to(device)\n",
        "        b_masks = batch[1].to(device)\n",
        "\n",
        "        model.zero_grad()\n",
        "\n",
        "        outputs = model(  b_input_ids,\n",
        "                          labels=b_labels,\n",
        "                          attention_mask = b_masks,\n",
        "                          token_type_ids=None\n",
        "                        )\n",
        "\n",
        "        loss = outputs[0]\n",
        "\n",
        "        batch_loss = loss.item()\n",
        "        total_train_loss += batch_loss\n",
        "\n",
        "        # Get sample every x batches.\n",
        "        if step % sample_every == 0 and not step == 0:\n",
        "\n",
        "            elapsed = format_time(time.time() - t0)\n",
        "            print('  Batch {:>5,}  of  {:>5,}. Loss: {:>5,}.   Elapsed: {:}.'.format(step, len(train_dataloader), batch_loss, elapsed))\n",
        "\n",
        "            model.eval()\n",
        "\n",
        "            sample_outputs = model.generate(\n",
        "                                    bos_token_id=random.randint(1,30000),\n",
        "                                    do_sample=True,\n",
        "                                    top_k=50,\n",
        "                                    max_length = 200,\n",
        "                                    top_p=0.95,\n",
        "                                    num_return_sequences=1\n",
        "                                )\n",
        "            for i, sample_output in enumerate(sample_outputs):\n",
        "                  print(\"{}: {}\".format(i, tokenizer.decode(sample_output, skip_special_tokens=True)))\n",
        "\n",
        "            model.train()\n",
        "\n",
        "        loss.backward()\n",
        "\n",
        "        optimizer.step()\n",
        "\n",
        "        scheduler.step()\n",
        "\n",
        "    # Calculate the average loss over all of the batches.\n",
        "    avg_train_loss = total_train_loss / len(train_dataloader)\n",
        "\n",
        "    # Measure how long this epoch took.\n",
        "    training_time = format_time(time.time() - t0)\n",
        "\n",
        "    print(\"\")\n",
        "    print(\"  Average training loss: {0:.2f}\".format(avg_train_loss))\n",
        "    print(\"  Training epoch took: {:}\".format(training_time))\n",
        "\n",
        "    # ========================================\n",
        "    #               Validation\n",
        "    # ========================================\n",
        "\n",
        "    print(\"\")\n",
        "    print(\"Running Validation...\")\n",
        "\n",
        "    t0 = time.time()\n",
        "\n",
        "    model.eval()\n",
        "\n",
        "    total_eval_loss = 0\n",
        "    nb_eval_steps = 0\n",
        "\n",
        "    # Evaluate data for one epoch\n",
        "    for batch in validation_dataloader:\n",
        "\n",
        "        b_input_ids = batch[0].to(device)\n",
        "        b_labels = batch[0].to(device)\n",
        "        b_masks = batch[1].to(device)\n",
        "\n",
        "        with torch.no_grad():\n",
        "\n",
        "            outputs  = model(b_input_ids,\n",
        "#                            token_type_ids=None,\n",
        "                             attention_mask = b_masks,\n",
        "                            labels=b_labels)\n",
        "\n",
        "            loss = outputs[0]\n",
        "\n",
        "        batch_loss = loss.item()\n",
        "        total_eval_loss += batch_loss\n",
        "\n",
        "    avg_val_loss = total_eval_loss / len(validation_dataloader)\n",
        "\n",
        "    validation_time = format_time(time.time() - t0)\n",
        "\n",
        "    print(\"  Validation Loss: {0:.2f}\".format(avg_val_loss))\n",
        "    print(\"  Validation took: {:}\".format(validation_time))\n",
        "\n",
        "    # Record all statistics from this epoch.\n",
        "    training_stats.append(\n",
        "        {\n",
        "            'epoch': epoch_i + 1,\n",
        "            'Training Loss': avg_train_loss,\n",
        "            'Valid. Loss': avg_val_loss,\n",
        "            'Training Time': training_time,\n",
        "            'Validation Time': validation_time\n",
        "        }\n",
        "    )\n",
        "\n",
        "print(\"\")\n",
        "print(\"Training complete!\")\n",
        "print(\"Total training took {:} (h:mm:ss)\".format(format_time(time.time()-total_t0)))"
      ]
    },
    {
      "cell_type": "markdown",
      "metadata": {
        "id": "VQTvJ1vRP7u4"
      },
      "source": [
        "Let's view the summary of the training process."
      ]
    },
    {
      "cell_type": "code",
      "execution_count": null,
      "metadata": {
        "colab": {
          "base_uri": "https://localhost:8080/",
          "height": 227
        },
        "id": "6O_NbXFGMukX",
        "outputId": "995536c7-afa9-43e4-fc83-27f8d067016a"
      },
      "outputs": [
        {
          "data": {
            "text/html": [
              "<div>\n",
              "<style scoped>\n",
              "    .dataframe tbody tr th:only-of-type {\n",
              "        vertical-align: middle;\n",
              "    }\n",
              "\n",
              "    .dataframe tbody tr th {\n",
              "        vertical-align: top;\n",
              "    }\n",
              "\n",
              "    .dataframe thead th {\n",
              "        text-align: right;\n",
              "    }\n",
              "</style>\n",
              "<table border=\"1\" class=\"dataframe\">\n",
              "  <thead>\n",
              "    <tr style=\"text-align: right;\">\n",
              "      <th></th>\n",
              "      <th>Training Loss</th>\n",
              "      <th>Valid. Loss</th>\n",
              "      <th>Training Time</th>\n",
              "      <th>Validation Time</th>\n",
              "    </tr>\n",
              "    <tr>\n",
              "      <th>epoch</th>\n",
              "      <th></th>\n",
              "      <th></th>\n",
              "      <th></th>\n",
              "      <th></th>\n",
              "    </tr>\n",
              "  </thead>\n",
              "  <tbody>\n",
              "    <tr>\n",
              "      <th>1</th>\n",
              "      <td>4.05</td>\n",
              "      <td>2.52</td>\n",
              "      <td>0:03:23</td>\n",
              "      <td>0:00:07</td>\n",
              "    </tr>\n",
              "    <tr>\n",
              "      <th>2</th>\n",
              "      <td>2.10</td>\n",
              "      <td>2.48</td>\n",
              "      <td>0:03:24</td>\n",
              "      <td>0:00:07</td>\n",
              "    </tr>\n",
              "    <tr>\n",
              "      <th>3</th>\n",
              "      <td>1.90</td>\n",
              "      <td>2.48</td>\n",
              "      <td>0:03:24</td>\n",
              "      <td>0:00:07</td>\n",
              "    </tr>\n",
              "    <tr>\n",
              "      <th>4</th>\n",
              "      <td>1.73</td>\n",
              "      <td>2.52</td>\n",
              "      <td>0:03:24</td>\n",
              "      <td>0:00:07</td>\n",
              "    </tr>\n",
              "    <tr>\n",
              "      <th>5</th>\n",
              "      <td>1.61</td>\n",
              "      <td>2.56</td>\n",
              "      <td>0:03:23</td>\n",
              "      <td>0:00:07</td>\n",
              "    </tr>\n",
              "  </tbody>\n",
              "</table>\n",
              "</div>"
            ],
            "text/plain": [
              "       Training Loss  Valid. Loss Training Time Validation Time\n",
              "epoch                                                          \n",
              "1               4.05         2.52       0:03:23         0:00:07\n",
              "2               2.10         2.48       0:03:24         0:00:07\n",
              "3               1.90         2.48       0:03:24         0:00:07\n",
              "4               1.73         2.52       0:03:24         0:00:07\n",
              "5               1.61         2.56       0:03:23         0:00:07"
            ]
          },
          "execution_count": 59,
          "metadata": {
            "tags": []
          },
          "output_type": "execute_result"
        }
      ],
      "source": [
        "# Display floats with two decimal places.\n",
        "pd.set_option('precision', 2)\n",
        "\n",
        "# Create a DataFrame from our training statistics.\n",
        "df_stats = pd.DataFrame(data=training_stats)\n",
        "\n",
        "# Use the 'epoch' as the row index.\n",
        "df_stats = df_stats.set_index('epoch')\n",
        "\n",
        "# A hack to force the column headers to wrap.\n",
        "#df = df.style.set_table_styles([dict(selector=\"th\",props=[('max-width', '70px')])])\n",
        "\n",
        "# Display the table.\n",
        "df_stats"
      ]
    },
    {
      "cell_type": "code",
      "execution_count": null,
      "metadata": {
        "colab": {
          "base_uri": "https://localhost:8080/",
          "height": 426
        },
        "id": "68xreA9JAmG5",
        "outputId": "a4a95c98-6daf-4bf2-92e1-5ce23edcebc9"
      },
      "outputs": [
        {
          "data": {
            "image/png": "[encoded data removed]",
            "text/plain": [
              "<Figure size 864x432 with 1 Axes>"
            ]
          },
          "metadata": {
            "tags": []
          },
          "output_type": "display_data"
        }
      ],
      "source": [
        "# Use plot styling from seaborn.\n",
        "sns.set(style='darkgrid')\n",
        "\n",
        "# Increase the plot size and font size.\n",
        "sns.set(font_scale=1.5)\n",
        "plt.rcParams[\"figure.figsize\"] = (12,6)\n",
        "\n",
        "# Plot the learning curve.\n",
        "plt.plot(df_stats['Training Loss'], 'b-o', label=\"Training\")\n",
        "plt.plot(df_stats['Valid. Loss'], 'g-o', label=\"Validation\")\n",
        "\n",
        "# Label the plot.\n",
        "plt.title(\"Training & Validation Loss\")\n",
        "plt.xlabel(\"Epoch\")\n",
        "plt.ylabel(\"Loss\")\n",
        "plt.legend()\n",
        "plt.xticks([1, 2, 3, 4])\n",
        "\n",
        "plt.show()"
      ]
    },
    {
      "cell_type": "markdown",
      "metadata": {
        "id": "GfjYoa6WmkN6"
      },
      "source": [
        "# Display Model Info"
      ]
    },
    {
      "cell_type": "code",
      "execution_count": null,
      "metadata": {
        "colab": {
          "base_uri": "https://localhost:8080/",
          "height": 478
        },
        "id": "8PIiVlDYCtSq",
        "outputId": "dbcd8b9c-6411-42c9-958c-db96ed008ad3"
      },
      "outputs": [
        {
          "name": "stdout",
          "output_type": "stream",
          "text": [
            "The GPT-2 model has 148 different named parameters.\n",
            "\n",
            "==== Embedding Layer ====\n",
            "\n",
            "transformer.wte.weight                                  (50259, 768)\n",
            "transformer.wpe.weight                                   (1024, 768)\n",
            "\n",
            "==== First Transformer ====\n",
            "\n",
            "transformer.h.0.ln_1.weight                                   (768,)\n",
            "transformer.h.0.ln_1.bias                                     (768,)\n",
            "transformer.h.0.attn.c_attn.weight                       (768, 2304)\n",
            "transformer.h.0.attn.c_attn.bias                             (2304,)\n",
            "transformer.h.0.attn.c_proj.weight                        (768, 768)\n",
            "transformer.h.0.attn.c_proj.bias                              (768,)\n",
            "transformer.h.0.ln_2.weight                                   (768,)\n",
            "transformer.h.0.ln_2.bias                                     (768,)\n",
            "transformer.h.0.mlp.c_fc.weight                          (768, 3072)\n",
            "transformer.h.0.mlp.c_fc.bias                                (3072,)\n",
            "transformer.h.0.mlp.c_proj.weight                        (3072, 768)\n",
            "transformer.h.0.mlp.c_proj.bias                               (768,)\n",
            "\n",
            "==== Output Layer ====\n",
            "\n",
            "transformer.ln_f.weight                                       (768,)\n",
            "transformer.ln_f.bias                                         (768,)\n"
          ]
        }
      ],
      "source": [
        "# Get all of the model's parameters as a list of tuples.\n",
        "params = list(model.named_parameters())\n",
        "\n",
        "print('The GPT-2 model has {:} different named parameters.\\n'.format(len(params)))\n",
        "\n",
        "print('==== Embedding Layer ====\\n')\n",
        "\n",
        "for p in params[0:2]:\n",
        "    print(\"{:<55} {:>12}\".format(p[0], str(tuple(p[1].size()))))\n",
        "\n",
        "print('\\n==== First Transformer ====\\n')\n",
        "\n",
        "for p in params[2:14]:\n",
        "    print(\"{:<55} {:>12}\".format(p[0], str(tuple(p[1].size()))))\n",
        "\n",
        "print('\\n==== Output Layer ====\\n')\n",
        "\n",
        "for p in params[-2:]:\n",
        "    print(\"{:<55} {:>12}\".format(p[0], str(tuple(p[1].size()))))"
      ]
    },
    {
      "cell_type": "markdown",
      "metadata": {
        "id": "q2079Qyn8Mt8"
      },
      "source": [
        "# Saving & Loading Fine-Tuned Model\n"
      ]
    },
    {
      "cell_type": "code",
      "execution_count": null,
      "metadata": {
        "colab": {
          "base_uri": "https://localhost:8080/",
          "height": 105
        },
        "id": "6ulTWaOr8QNY",
        "outputId": "0aa1c212-f566-4526-d83e-25647b32de68"
      },
      "outputs": [
        {
          "name": "stdout",
          "output_type": "stream",
          "text": [
            "Saving model to ./model_save/\n"
          ]
        },
        {
          "data": {
            "text/plain": [
              "('./model_save/vocab.json',\n",
              " './model_save/merges.txt',\n",
              " './model_save/special_tokens_map.json',\n",
              " './model_save/added_tokens.json')"
            ]
          },
          "execution_count": 61,
          "metadata": {
            "tags": []
          },
          "output_type": "execute_result"
        }
      ],
      "source": [
        "# Saving best-practices: if you use defaults names for the model, you can reload it using from_pretrained()\n",
        "\n",
        "output_dir = './model_save/'\n",
        "\n",
        "# Create output directory if needed\n",
        "if not os.path.exists(output_dir):\n",
        "    os.makedirs(output_dir)\n",
        "\n",
        "print(\"Saving model to %s\" % output_dir)\n",
        "\n",
        "# Save a trained model, configuration and tokenizer using `save_pretrained()`.\n",
        "# They can then be reloaded using `from_pretrained()`\n",
        "model_to_save = model.module if hasattr(model, 'module') else model  # Take care of distributed/parallel training\n",
        "model_to_save.save_pretrained(output_dir)\n",
        "tokenizer.save_pretrained(output_dir)\n",
        "\n",
        "# Good practice: save your training arguments together with the trained model\n",
        "# torch.save(args, os.path.join(output_dir, 'training_args.bin'))\n"
      ]
    },
    {
      "cell_type": "code",
      "execution_count": null,
      "metadata": {
        "colab": {
          "base_uri": "https://localhost:8080/",
          "height": 158
        },
        "id": "mqMzI3VTCZo5",
        "outputId": "ef38ff34-c13c-4c76-ec76-f1b5973c9304"
      },
      "outputs": [
        {
          "name": "stdout",
          "output_type": "stream",
          "text": [
            "total 499796K\n",
            "-rw-r--r-- 1 root root      1K Aug 27 13:16 added_tokens.json\n",
            "-rw-r--r-- 1 root root      1K Aug 27 13:16 config.json\n",
            "-rw-r--r-- 1 root root    446K Aug 27 13:16 merges.txt\n",
            "-rw-r--r-- 1 root root 498451K Aug 27 13:16 pytorch_model.bin\n",
            "-rw-r--r-- 1 root root      1K Aug 27 13:16 special_tokens_map.json\n",
            "-rw-r--r-- 1 root root      1K Aug 27 13:16 tokenizer_config.json\n",
            "-rw-r--r-- 1 root root    878K Aug 27 13:16 vocab.json\n"
          ]
        }
      ],
      "source": [
        "!ls -l --block-size=K ./model_save/"
      ]
    },
    {
      "cell_type": "code",
      "execution_count": null,
      "metadata": {
        "colab": {
          "base_uri": "https://localhost:8080/",
          "height": 34
        },
        "id": "-WUFUIQ8Cu8D",
        "outputId": "0fadb954-c8de-4b40-8c1d-2b6d6231d8d5"
      },
      "outputs": [
        {
          "name": "stdout",
          "output_type": "stream",
          "text": [
            "-rw-r--r-- 1 root root 487M Aug 27 13:16 ./model_save/pytorch_model.bin\n"
          ]
        }
      ],
      "source": [
        "!ls -l --block-size=M ./model_save/pytorch_model.bin"
      ]
    },
    {
      "cell_type": "code",
      "execution_count": null,
      "metadata": {
        "id": "NxlZsafTC-V5"
      },
      "outputs": [],
      "source": [
        "# Copy the model files to a directory in your Google Drive.\n",
        "!cp -r ./model_save/ $data_dir\n",
        "\n",
        "# # Load a trained model and vocabulary that you have fine-tuned\n",
        "#model = GPT2LMHeadModel.from_pretrained(output_dir)\n",
        "#tokenizer = GPT2Tokenizer.from_pretrained(output_dir)\n",
        "#model.to(device)"
      ]
    },
    {
      "cell_type": "markdown",
      "metadata": {
        "id": "ZLf6rbRglYhQ"
      },
      "source": [
        "# Generate Text"
      ]
    },
    {
      "cell_type": "code",
      "execution_count": null,
      "metadata": {
        "colab": {
          "base_uri": "https://localhost:8080/",
          "height": 481
        },
        "id": "v4XhewaV93-_",
        "outputId": "8084aae0-dd9b-4556-a451-393e44e10aef"
      },
      "outputs": [
        {
          "name": "stderr",
          "output_type": "stream",
          "text": [
            "Setting `pad_token_id` to 50256 (first `eos_token_id`) to generate sequence\n"
          ]
        },
        {
          "name": "stdout",
          "output_type": "stream",
          "text": [
            "tensor([[50258]], device='cuda:0')\n",
            "0: One of the world’s most beloved techno artists, Simko began DJing around 1980 at the age of 13 in Warsaw.\n",
            "\n",
            "One of the early innovators in the techno scene, Simko was able to gain invaluable experience at the highest level. His sets, widely known as his \"Brock Theme\" or “Brock S”, were released in the infamous magazine magazines, Ultraschall and later, Freakout Magazine, followed by gigs in New York, Los Angeles and Berlin.\n",
            "\n",
            "Following several highly successful releases, Simko began a career as a member of the renowned Electronic Techno trio. Their early releases “Lapis Amnesia” and “Nakase” established Simko as a vital component in their long and illustrious career.\n",
            "\n",
            "Over two decades later Simko continues to produce and release material that continues to captivate the music and the dancefloor. From his seminal “Blank Space” and “Rube Geis” series, to his recent work on The End Of All Existence “The End Of All Existence”, he continues to deliver in uncompromising style.\n",
            "\n",
            "Simko’s contribution to the European techno scene was heavily supported, most notably by DJ Mag, who ranked him one of the Top DJs in the world. He was also selected by DJ Mag and Mixmag as one of the Best European DJs of 2007.\n",
            "\n",
            "As\n",
            "\n",
            "\n",
            "1: It started off as a mere project that would involve a bunch of guys from the Czech Republic and Germany. But the following year, in 2015 the project progressed into a more serious endeavor. That was the project that brought Marcel Dettmann together with Daniel Orphara, Daniel Pantaleon, and Sebastian Thorne. As a reaction to Pantaleon's decision to close the project, Marcel Dettmann began to search for music to make the project sustainable, and in 2016 he decided to begin a new project. Called The Rave Recordings Company, or simply The Rave Recordings Organization, it’s a collective of musicians working together to create beats for some of the most influential electronic music on the planet.\n",
            "\n",
            "At first Marcel Dettmann was somewhat unknown to everyone but to his fans, who were heavily inspired by the artist. He started producing with his friend and sound engineer, Joris Voorn, under the alias “The Rave Radio Project” in 2017. Since then the project has evolved into the more serious project of the project known as The Rave Exchange, a new label formed on the principles of collaboration and sharing the knowledge, creativity, and ideas of artists. Currently The Rave Exchange is composed of all the residents of Berlin, with whom Marcel Dettmann has a deep connection. The Rave Exchange’s goal is to provide a platform for artists in various fields, from the clubbing to the film and theatre industry.\n",
            "\n",
            "\n",
            "2: A staple of the London club scene since its founding in 1991, Krivit grew up in suburban London. In the mid-nineties he was a key part of a crew of DJs in the infamous Deep House club called Watergate. In the autumn of 2004 he moved to Berlin. Around this time he formed Tresor and quickly became one of its most important and sought after DJs. Throughout his earlier years, Krivit was also active in localised fashion agencies and his monthly show 'Krivit' was a regular feature in various local parties and boutiques. During this period, he played a vast range of electronic music at iconic venues and boutiques including Berghain, Pacha, Fabric, Robert Johnson, Rex, Soho and many more.\n",
            "\n",
            "In 2007 he was elected as resident DJ of the Berghain club in London. In the same year he started his own event series 'Krivit' in the Hamptons, an extension of the now legendary Ostgut Ton club. During this period Krivit gained the respect of the London club establishment and as such gained the reputation of becoming one of the most highly regarded DJs in the world. From his popularity and reputation he created 'Krivit 2.0' label and it was this that Krivit set about producing his own unique style and which has gained him worldwide recognition for his unique approach to DJing. During this period he also became one of the best known European DJ at\n",
            "\n",
            "\n"
          ]
        }
      ],
      "source": [
        "model.eval()\n",
        "\n",
        "prompt = \"<|startoftext|>\"\n",
        "\n",
        "generated = torch.tensor(tokenizer.encode(prompt)).unsqueeze(0)\n",
        "generated = generated.to(device)\n",
        "\n",
        "print(generated)\n",
        "\n",
        "sample_outputs = model.generate(\n",
        "                                generated,\n",
        "                                #bos_token_id=random.randint(1,30000),\n",
        "                                do_sample=True,\n",
        "                                top_k=50,\n",
        "                                max_length = 300,\n",
        "                                top_p=0.95,\n",
        "                                num_return_sequences=3\n",
        "                                )\n",
        "\n",
        "for i, sample_output in enumerate(sample_outputs):\n",
        "  print(\"{}: {}\\n\\n\".format(i, tokenizer.decode(sample_output, skip_special_tokens=True)))"
      ]
    },
    {
      "cell_type": "markdown",
      "metadata": {
        "id": "t4LrX5H-0nAU"
      },
      "source": [
        "These aren't bad at all!\n"
      ]
    }
  ],
  "metadata": {
    "accelerator": "GPU",
    "colab": {
      "provenance": []
    },
    "kernelspec": {
      "display_name": "Python 3",
      "name": "python3"
    },
    "language_info": {
      "codemirror_mode": {
        "name": "ipython",
        "version": 3
      },
      "file_extension": ".py",
      "mimetype": "text/x-python",
      "name": "python",
      "nbconvert_exporter": "python",
      "pygments_lexer": "ipython3",
      "version": "3.10.14"
    },
    "widgets": {
      "application/vnd.jupyter.widget-state+json": {
        "00d7ecd3e7c949638441c75297fa352d": {
          "model_module": "@jupyter-widgets/controls",
          "model_module_version": "1.5.0",
          "model_name": "ProgressStyleModel",
          "state": {
            "_model_module": "@jupyter-widgets/controls",
            "_model_module_version": "1.5.0",
            "_model_name": "ProgressStyleModel",
            "_view_count": null,
            "_view_module": "@jupyter-widgets/base",
            "_view_module_version": "1.2.0",
            "_view_name": "StyleView",
            "bar_color": null,
            "description_width": "initial"
          }
        },
        "0489a4fd50f64513a9b255a1535b245e": {
          "model_module": "@jupyter-widgets/controls",
          "model_module_version": "1.5.0",
          "model_name": "HBoxModel",
          "state": {
            "_dom_classes": [],
            "_model_module": "@jupyter-widgets/controls",
            "_model_module_version": "1.5.0",
            "_model_name": "HBoxModel",
            "_view_count": null,
            "_view_module": "@jupyter-widgets/controls",
            "_view_module_version": "1.5.0",
            "_view_name": "HBoxView",
            "box_style": "",
            "children": [
              "IPY_MODEL_515137fcceaa44f982b3fbd5f3a08452",
              "IPY_MODEL_edb3099d63c44b218fa206dae1ba9bc6"
            ],
            "layout": "IPY_MODEL_ea1d91bf60634e6599270f1fba83500d"
          }
        },
        "19b51c64ec66418a949217821b711317": {
          "model_module": "@jupyter-widgets/controls",
          "model_module_version": "1.5.0",
          "model_name": "DescriptionStyleModel",
          "state": {
            "_model_module": "@jupyter-widgets/controls",
            "_model_module_version": "1.5.0",
            "_model_name": "DescriptionStyleModel",
            "_view_count": null,
            "_view_module": "@jupyter-widgets/base",
            "_view_module_version": "1.2.0",
            "_view_name": "StyleView",
            "description_width": ""
          }
        },
        "1c9ea5a685534b6988fa7c4d48492fc2": {
          "model_module": "@jupyter-widgets/base",
          "model_module_version": "1.2.0",
          "model_name": "LayoutModel",
          "state": {
            "_model_module": "@jupyter-widgets/base",
            "_model_module_version": "1.2.0",
            "_model_name": "LayoutModel",
            "_view_count": null,
            "_view_module": "@jupyter-widgets/base",
            "_view_module_version": "1.2.0",
            "_view_name": "LayoutView",
            "align_content": null,
            "align_items": null,
            "align_self": null,
            "border": null,
            "bottom": null,
            "display": null,
            "flex": null,
            "flex_flow": null,
            "grid_area": null,
            "grid_auto_columns": null,
            "grid_auto_flow": null,
            "grid_auto_rows": null,
            "grid_column": null,
            "grid_gap": null,
            "grid_row": null,
            "grid_template_areas": null,
            "grid_template_columns": null,
            "grid_template_rows": null,
            "height": null,
            "justify_content": null,
            "justify_items": null,
            "left": null,
            "margin": null,
            "max_height": null,
            "max_width": null,
            "min_height": null,
            "min_width": null,
            "object_fit": null,
            "object_position": null,
            "order": null,
            "overflow": null,
            "overflow_x": null,
            "overflow_y": null,
            "padding": null,
            "right": null,
            "top": null,
            "visibility": null,
            "width": null
          }
        },
        "354918de69d64d5fa6fa74e61422ae6e": {
          "model_module": "@jupyter-widgets/base",
          "model_module_version": "1.2.0",
          "model_name": "LayoutModel",
          "state": {
            "_model_module": "@jupyter-widgets/base",
            "_model_module_version": "1.2.0",
            "_model_name": "LayoutModel",
            "_view_count": null,
            "_view_module": "@jupyter-widgets/base",
            "_view_module_version": "1.2.0",
            "_view_name": "LayoutView",
            "align_content": null,
            "align_items": null,
            "align_self": null,
            "border": null,
            "bottom": null,
            "display": null,
            "flex": null,
            "flex_flow": null,
            "grid_area": null,
            "grid_auto_columns": null,
            "grid_auto_flow": null,
            "grid_auto_rows": null,
            "grid_column": null,
            "grid_gap": null,
            "grid_row": null,
            "grid_template_areas": null,
            "grid_template_columns": null,
            "grid_template_rows": null,
            "height": null,
            "justify_content": null,
            "justify_items": null,
            "left": null,
            "margin": null,
            "max_height": null,
            "max_width": null,
            "min_height": null,
            "min_width": null,
            "object_fit": null,
            "object_position": null,
            "order": null,
            "overflow": null,
            "overflow_x": null,
            "overflow_y": null,
            "padding": null,
            "right": null,
            "top": null,
            "visibility": null,
            "width": null
          }
        },
        "42f0ec7177e94d6f999df8cd14a44cc9": {
          "model_module": "@jupyter-widgets/controls",
          "model_module_version": "1.5.0",
          "model_name": "ProgressStyleModel",
          "state": {
            "_model_module": "@jupyter-widgets/controls",
            "_model_module_version": "1.5.0",
            "_model_name": "ProgressStyleModel",
            "_view_count": null,
            "_view_module": "@jupyter-widgets/base",
            "_view_module_version": "1.2.0",
            "_view_name": "StyleView",
            "bar_color": null,
            "description_width": "initial"
          }
        },
        "515137fcceaa44f982b3fbd5f3a08452": {
          "model_module": "@jupyter-widgets/controls",
          "model_module_version": "1.5.0",
          "model_name": "FloatProgressModel",
          "state": {
            "_dom_classes": [],
            "_model_module": "@jupyter-widgets/controls",
            "_model_module_version": "1.5.0",
            "_model_name": "FloatProgressModel",
            "_view_count": null,
            "_view_module": "@jupyter-widgets/controls",
            "_view_module_version": "1.5.0",
            "_view_name": "ProgressView",
            "bar_style": "success",
            "description": "Downloading: 100%",
            "description_tooltip": null,
            "layout": "IPY_MODEL_354918de69d64d5fa6fa74e61422ae6e",
            "max": 456318,
            "min": 0,
            "orientation": "horizontal",
            "style": "IPY_MODEL_00d7ecd3e7c949638441c75297fa352d",
            "value": 456318
          }
        },
        "51897d176312490a9cc2f1e6ea223e36": {
          "model_module": "@jupyter-widgets/base",
          "model_module_version": "1.2.0",
          "model_name": "LayoutModel",
          "state": {
            "_model_module": "@jupyter-widgets/base",
            "_model_module_version": "1.2.0",
            "_model_name": "LayoutModel",
            "_view_count": null,
            "_view_module": "@jupyter-widgets/base",
            "_view_module_version": "1.2.0",
            "_view_name": "LayoutView",
            "align_content": null,
            "align_items": null,
            "align_self": null,
            "border": null,
            "bottom": null,
            "display": null,
            "flex": null,
            "flex_flow": null,
            "grid_area": null,
            "grid_auto_columns": null,
            "grid_auto_flow": null,
            "grid_auto_rows": null,
            "grid_column": null,
            "grid_gap": null,
            "grid_row": null,
            "grid_template_areas": null,
            "grid_template_columns": null,
            "grid_template_rows": null,
            "height": null,
            "justify_content": null,
            "justify_items": null,
            "left": null,
            "margin": null,
            "max_height": null,
            "max_width": null,
            "min_height": null,
            "min_width": null,
            "object_fit": null,
            "object_position": null,
            "order": null,
            "overflow": null,
            "overflow_x": null,
            "overflow_y": null,
            "padding": null,
            "right": null,
            "top": null,
            "visibility": null,
            "width": null
          }
        },
        "6d46299bb5d1414aa2bfa6b500f9786d": {
          "model_module": "@jupyter-widgets/controls",
          "model_module_version": "1.5.0",
          "model_name": "FloatProgressModel",
          "state": {
            "_dom_classes": [],
            "_model_module": "@jupyter-widgets/controls",
            "_model_module_version": "1.5.0",
            "_model_name": "FloatProgressModel",
            "_view_count": null,
            "_view_module": "@jupyter-widgets/controls",
            "_view_module_version": "1.5.0",
            "_view_name": "ProgressView",
            "bar_style": "success",
            "description": "Downloading: 100%",
            "description_tooltip": null,
            "layout": "IPY_MODEL_51897d176312490a9cc2f1e6ea223e36",
            "max": 1042301,
            "min": 0,
            "orientation": "horizontal",
            "style": "IPY_MODEL_42f0ec7177e94d6f999df8cd14a44cc9",
            "value": 1042301
          }
        },
        "7bd2ddd9aceb45008a1b59ea01971fc6": {
          "model_module": "@jupyter-widgets/controls",
          "model_module_version": "1.5.0",
          "model_name": "HTMLModel",
          "state": {
            "_dom_classes": [],
            "_model_module": "@jupyter-widgets/controls",
            "_model_module_version": "1.5.0",
            "_model_name": "HTMLModel",
            "_view_count": null,
            "_view_module": "@jupyter-widgets/controls",
            "_view_module_version": "1.5.0",
            "_view_name": "HTMLView",
            "description": "",
            "description_tooltip": null,
            "layout": "IPY_MODEL_1c9ea5a685534b6988fa7c4d48492fc2",
            "placeholder": "​",
            "style": "IPY_MODEL_19b51c64ec66418a949217821b711317",
            "value": " 1.04M/1.04M [00:01&lt;00:00, 769kB/s]"
          }
        },
        "855d49d8c5a245bc8497965ba991cf30": {
          "model_module": "@jupyter-widgets/base",
          "model_module_version": "1.2.0",
          "model_name": "LayoutModel",
          "state": {
            "_model_module": "@jupyter-widgets/base",
            "_model_module_version": "1.2.0",
            "_model_name": "LayoutModel",
            "_view_count": null,
            "_view_module": "@jupyter-widgets/base",
            "_view_module_version": "1.2.0",
            "_view_name": "LayoutView",
            "align_content": null,
            "align_items": null,
            "align_self": null,
            "border": null,
            "bottom": null,
            "display": null,
            "flex": null,
            "flex_flow": null,
            "grid_area": null,
            "grid_auto_columns": null,
            "grid_auto_flow": null,
            "grid_auto_rows": null,
            "grid_column": null,
            "grid_gap": null,
            "grid_row": null,
            "grid_template_areas": null,
            "grid_template_columns": null,
            "grid_template_rows": null,
            "height": null,
            "justify_content": null,
            "justify_items": null,
            "left": null,
            "margin": null,
            "max_height": null,
            "max_width": null,
            "min_height": null,
            "min_width": null,
            "object_fit": null,
            "object_position": null,
            "order": null,
            "overflow": null,
            "overflow_x": null,
            "overflow_y": null,
            "padding": null,
            "right": null,
            "top": null,
            "visibility": null,
            "width": null
          }
        },
        "a57d57e2056b4bc79e04f2b9b4a7cc9e": {
          "model_module": "@jupyter-widgets/base",
          "model_module_version": "1.2.0",
          "model_name": "LayoutModel",
          "state": {
            "_model_module": "@jupyter-widgets/base",
            "_model_module_version": "1.2.0",
            "_model_name": "LayoutModel",
            "_view_count": null,
            "_view_module": "@jupyter-widgets/base",
            "_view_module_version": "1.2.0",
            "_view_name": "LayoutView",
            "align_content": null,
            "align_items": null,
            "align_self": null,
            "border": null,
            "bottom": null,
            "display": null,
            "flex": null,
            "flex_flow": null,
            "grid_area": null,
            "grid_auto_columns": null,
            "grid_auto_flow": null,
            "grid_auto_rows": null,
            "grid_column": null,
            "grid_gap": null,
            "grid_row": null,
            "grid_template_areas": null,
            "grid_template_columns": null,
            "grid_template_rows": null,
            "height": null,
            "justify_content": null,
            "justify_items": null,
            "left": null,
            "margin": null,
            "max_height": null,
            "max_width": null,
            "min_height": null,
            "min_width": null,
            "object_fit": null,
            "object_position": null,
            "order": null,
            "overflow": null,
            "overflow_x": null,
            "overflow_y": null,
            "padding": null,
            "right": null,
            "top": null,
            "visibility": null,
            "width": null
          }
        },
        "bdf4edd828064de2822db1bc9441bbcf": {
          "model_module": "@jupyter-widgets/controls",
          "model_module_version": "1.5.0",
          "model_name": "DescriptionStyleModel",
          "state": {
            "_model_module": "@jupyter-widgets/controls",
            "_model_module_version": "1.5.0",
            "_model_name": "DescriptionStyleModel",
            "_view_count": null,
            "_view_module": "@jupyter-widgets/base",
            "_view_module_version": "1.2.0",
            "_view_name": "StyleView",
            "description_width": ""
          }
        },
        "c1336ea71997462e82cd06beea22d482": {
          "model_module": "@jupyter-widgets/controls",
          "model_module_version": "1.5.0",
          "model_name": "HBoxModel",
          "state": {
            "_dom_classes": [],
            "_model_module": "@jupyter-widgets/controls",
            "_model_module_version": "1.5.0",
            "_model_name": "HBoxModel",
            "_view_count": null,
            "_view_module": "@jupyter-widgets/controls",
            "_view_module_version": "1.5.0",
            "_view_name": "HBoxView",
            "box_style": "",
            "children": [
              "IPY_MODEL_6d46299bb5d1414aa2bfa6b500f9786d",
              "IPY_MODEL_7bd2ddd9aceb45008a1b59ea01971fc6"
            ],
            "layout": "IPY_MODEL_855d49d8c5a245bc8497965ba991cf30"
          }
        },
        "ea1d91bf60634e6599270f1fba83500d": {
          "model_module": "@jupyter-widgets/base",
          "model_module_version": "1.2.0",
          "model_name": "LayoutModel",
          "state": {
            "_model_module": "@jupyter-widgets/base",
            "_model_module_version": "1.2.0",
            "_model_name": "LayoutModel",
            "_view_count": null,
            "_view_module": "@jupyter-widgets/base",
            "_view_module_version": "1.2.0",
            "_view_name": "LayoutView",
            "align_content": null,
            "align_items": null,
            "align_self": null,
            "border": null,
            "bottom": null,
            "display": null,
            "flex": null,
            "flex_flow": null,
            "grid_area": null,
            "grid_auto_columns": null,
            "grid_auto_flow": null,
            "grid_auto_rows": null,
            "grid_column": null,
            "grid_gap": null,
            "grid_row": null,
            "grid_template_areas": null,
            "grid_template_columns": null,
            "grid_template_rows": null,
            "height": null,
            "justify_content": null,
            "justify_items": null,
            "left": null,
            "margin": null,
            "max_height": null,
            "max_width": null,
            "min_height": null,
            "min_width": null,
            "object_fit": null,
            "object_position": null,
            "order": null,
            "overflow": null,
            "overflow_x": null,
            "overflow_y": null,
            "padding": null,
            "right": null,
            "top": null,
            "visibility": null,
            "width": null
          }
        },
        "edb3099d63c44b218fa206dae1ba9bc6": {
          "model_module": "@jupyter-widgets/controls",
          "model_module_version": "1.5.0",
          "model_name": "HTMLModel",
          "state": {
            "_dom_classes": [],
            "_model_module": "@jupyter-widgets/controls",
            "_model_module_version": "1.5.0",
            "_model_name": "HTMLModel",
            "_view_count": null,
            "_view_module": "@jupyter-widgets/controls",
            "_view_module_version": "1.5.0",
            "_view_name": "HTMLView",
            "description": "",
            "description_tooltip": null,
            "layout": "IPY_MODEL_a57d57e2056b4bc79e04f2b9b4a7cc9e",
            "placeholder": "​",
            "style": "IPY_MODEL_bdf4edd828064de2822db1bc9441bbcf",
            "value": " 456k/456k [00:00&lt;00:00, 1.31MB/s]"
          }
        }
      }
    }
  },
  "nbformat": 4,
  "nbformat_minor": 0
}
