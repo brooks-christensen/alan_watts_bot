{
 "cells": [
  {
   "cell_type": "markdown",
   "metadata": {},
   "source": [
    "# Optimization\n",
    "\n",
    "Following Andrej Karpathy from [his video](https://www.youtube.com/watch?v=kCc8FmEb1nY) to optimize learning rate"
   ]
  },
  {
   "cell_type": "markdown",
   "metadata": {},
   "source": [
    "## Karpathy's Original Code\n",
    "\n",
    "Note: This code assumes that the following have already been defined:\n",
    "\n",
    "- get_batch(split: str) -> List[torch.Tensor]\n",
    "- m is the model of a class that inherits from torch.nn.Module\n",
    "- optimizer is torch.optim.AdamW\n",
    "\n",
    "Note: The number of steps to walk through depends on the size of the model"
   ]
  },
  {
   "cell_type": "code",
   "execution_count": null,
   "metadata": {},
   "outputs": [],
   "source": [
    "for steps in range(10000):\n",
    "\n",
    "    # sample batch of data\n",
    "    xb, yb = get_batch('train')\n",
    "\n",
    "    # evaluate the loss\n",
    "    _, loss = m(xb, yb)\n",
    "    optimizer.zero_grad(set_to_none=True)\n",
    "    loss.backward()\n",
    "    optimizer.step()\n",
    "\n",
    "print(loss.item())"
   ]
  }
 ],
 "metadata": {
  "kernelspec": {
   "display_name": "Python 3",
   "language": "python",
   "name": "python3"
  },
  "language_info": {
   "name": "python",
   "version": "3.10.14"
  }
 },
 "nbformat": 4,
 "nbformat_minor": 2
}
