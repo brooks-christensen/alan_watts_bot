{
 "cells": [
  {
   "cell_type": "markdown",
   "metadata": {},
   "source": [
    "# Dialogic Conversion"
   ]
  },
  {
   "cell_type": "code",
   "execution_count": 1,
   "metadata": {},
   "outputs": [
    {
     "name": "stdout",
     "output_type": "stream",
     "text": [
      "Chunk 0:\n",
      "\n",
      "Alan Watts was a British writer and speaker, known for interpreting and popularizing\n",
      "Japanese, Chinese, and Indian traditions of Buddhist, Taoist, and Hindu philosophy\n",
      "for a Western audience. He wrote extensively on personal identity, the true nature of reality,\n",
      "and the pursuit of happiness.\n",
      "\n",
      "Chunk 1:\n",
      "His works often tackled the tension between spirituality and\n",
      "modern society, encouraging readers to explore alternative ways of perceiving life.\n",
      "\n"
     ]
    },
    {
     "name": "stderr",
     "output_type": "stream",
     "text": [
      "[nltk_data] Downloading package punkt to\n",
      "[nltk_data]     /home/peacelovephysics/nltk_data...\n",
      "[nltk_data]   Package punkt is already up-to-date!\n"
     ]
    }
   ],
   "source": [
    "import nltk\n",
    "import re\n",
    "\n",
    "nltk.download(\"punkt\")\n",
    "\n",
    "def split_text_into_chunks(text, max_tokens=128):\n",
    "    \"\"\"\n",
    "    Splits text into chunks of roughly `max_tokens` tokens each.\n",
    "    You can modify the logic to chunk by paragraph or subheading instead.\n",
    "    \"\"\"\n",
    "    sentences = nltk.sent_tokenize(text)\n",
    "    chunks = []\n",
    "    current_chunk = []\n",
    "    current_length = 0\n",
    "\n",
    "    for sent in sentences:\n",
    "        sent_tokens = sent.split()\n",
    "        if current_length + len(sent_tokens) > max_tokens:\n",
    "            # Close off the current chunk\n",
    "            if current_chunk:\n",
    "                chunks.append(\" \".join(current_chunk))\n",
    "            current_chunk = []\n",
    "            current_length = 0\n",
    "\n",
    "        current_chunk.append(sent)\n",
    "        current_length += len(sent_tokens)\n",
    "\n",
    "    # If there's a remainder, add it as the final chunk\n",
    "    if current_chunk:\n",
    "        chunks.append(\" \".join(current_chunk))\n",
    "\n",
    "    return chunks\n",
    "\n",
    "# Example usage:\n",
    "text = \"\"\"\n",
    "Alan Watts was a British writer and speaker, known for interpreting and popularizing\n",
    "Japanese, Chinese, and Indian traditions of Buddhist, Taoist, and Hindu philosophy\n",
    "for a Western audience. He wrote extensively on personal identity, the true nature of reality,\n",
    "and the pursuit of happiness. His works often tackled the tension between spirituality and\n",
    "modern society, encouraging readers to explore alternative ways of perceiving life.\n",
    "\"\"\"\n",
    "chunks = split_text_into_chunks(text, max_tokens=50)\n",
    "for i, c in enumerate(chunks):\n",
    "    print(f\"Chunk {i}:\\n{c}\\n\")\n"
   ]
  },
  {
   "cell_type": "code",
   "execution_count": null,
   "metadata": {},
   "outputs": [],
   "source": []
  }
 ],
 "metadata": {
  "kernelspec": {
   "display_name": "awbot",
   "language": "python",
   "name": "python3"
  },
  "language_info": {
   "codemirror_mode": {
    "name": "ipython",
    "version": 3
   },
   "file_extension": ".py",
   "mimetype": "text/x-python",
   "name": "python",
   "nbconvert_exporter": "python",
   "pygments_lexer": "ipython3",
   "version": "3.13.2"
  }
 },
 "nbformat": 4,
 "nbformat_minor": 2
}
